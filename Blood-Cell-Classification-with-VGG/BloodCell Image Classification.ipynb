{
 "cells": [
  {
   "cell_type": "markdown",
   "metadata": {
    "colab_type": "text",
    "id": "dcdvY80TrLxb"
   },
   "source": [
    "# Blood cell images classification with CNN"
   ]
  },
  {
   "cell_type": "markdown",
   "metadata": {},
   "source": [
    "### Import Libraries"
   ]
  },
  {
   "cell_type": "code",
   "execution_count": 1,
   "metadata": {
    "colab": {
     "base_uri": "https://localhost:8080/",
     "height": 71
    },
    "colab_type": "code",
    "executionInfo": {
     "elapsed": 1585,
     "status": "ok",
     "timestamp": 1594554388669,
     "user": {
      "displayName": "samiul islam",
      "photoUrl": "https://lh3.googleusercontent.com/-HLS0DGM8MNs/AAAAAAAAAAI/AAAAAAAACFU/yVcQtGcu6X8/s64/photo.jpg",
      "userId": "01102536367288735503"
     },
     "user_tz": -540
    },
    "id": "V1FyPtkOrLxd",
    "outputId": "2c60639d-2f8c-4fb4-c6ee-bd13b57c6cc9"
   },
   "outputs": [
    {
     "name": "stderr",
     "output_type": "stream",
     "text": [
      "/usr/local/lib/python3.6/dist-packages/statsmodels/tools/_testing.py:19: FutureWarning: pandas.util.testing is deprecated. Use the functions in the public API at pandas.testing instead.\n",
      "  import pandas.util.testing as tm\n"
     ]
    }
   ],
   "source": [
    "import os\n",
    "import pandas as pd\n",
    "import numpy as np\n",
    "import seaborn as sns\n",
    "import matplotlib.pyplot as plt\n",
    "from matplotlib.image import imread\n",
    "\n",
    "%matplotlib inline"
   ]
  },
  {
   "cell_type": "code",
   "execution_count": 2,
   "metadata": {
    "colab": {
     "base_uri": "https://localhost:8080/",
     "height": 34
    },
    "colab_type": "code",
    "executionInfo": {
     "elapsed": 2486,
     "status": "ok",
     "timestamp": 1594554403558,
     "user": {
      "displayName": "samiul islam",
      "photoUrl": "https://lh3.googleusercontent.com/-HLS0DGM8MNs/AAAAAAAAAAI/AAAAAAAACFU/yVcQtGcu6X8/s64/photo.jpg",
      "userId": "01102536367288735503"
     },
     "user_tz": -540
    },
    "id": "IildIcrNrLxi",
    "outputId": "5f443441-57cb-4c45-d31e-88d0f96d2288"
   },
   "outputs": [
    {
     "name": "stderr",
     "output_type": "stream",
     "text": [
      "Using TensorFlow backend.\n"
     ]
    }
   ],
   "source": [
    "import keras\n",
    "from keras import backend as k\n",
    "from keras.models import Sequential\n",
    "from keras.layers import Activation\n",
    "from keras.layers import Dropout\n",
    "from keras.layers.core import Dense, Flatten\n",
    "from keras.optimizers import Adam, RMSprop , SGD\n",
    "from keras.metrics import categorical_crossentropy\n",
    "from keras.preprocessing.image import ImageDataGenerator\n",
    "from keras.layers.normalization import BatchNormalization\n",
    "from keras.layers.convolutional import *\n",
    "from sklearn.metrics import confusion_matrix"
   ]
  },
  {
   "cell_type": "markdown",
   "metadata": {
    "colab": {},
    "colab_type": "code",
    "id": "buSWhmCfrlod"
   },
   "source": [
    "### Unzip the Datasets Folder"
   ]
  },
  {
   "cell_type": "code",
   "execution_count": 4,
   "metadata": {
    "colab": {},
    "colab_type": "code",
    "executionInfo": {
     "elapsed": 3107,
     "status": "ok",
     "timestamp": 1594555073347,
     "user": {
      "displayName": "samiul islam",
      "photoUrl": "https://lh3.googleusercontent.com/-HLS0DGM8MNs/AAAAAAAAAAI/AAAAAAAACFU/yVcQtGcu6X8/s64/photo.jpg",
      "userId": "01102536367288735503"
     },
     "user_tz": -540
    },
    "id": "CJ9p1_EetL41"
   },
   "outputs": [],
   "source": [
    "import zipfile\n",
    "local_zip = '//tmp/dataset2-master.zip'\n",
    "\n",
    "zip_ref = zipfile.ZipFile(local_zip, 'r')\n",
    "\n",
    "zip_ref.extractall('/tmp')\n",
    "zip_ref.close()\n",
    "\n",
    "# Define our example directories and files\n",
    "base_dir = '/tmp/dataset2-master'"
   ]
  },
  {
   "cell_type": "markdown",
   "metadata": {
    "colab_type": "text",
    "id": "BhITD4uZrLxl"
   },
   "source": [
    "### Exploring and Visualizing the Cell Datasets"
   ]
  },
  {
   "cell_type": "code",
   "execution_count": 5,
   "metadata": {
    "colab": {
     "base_uri": "https://localhost:8080/",
     "height": 34
    },
    "colab_type": "code",
    "executionInfo": {
     "elapsed": 964,
     "status": "ok",
     "timestamp": 1594555084389,
     "user": {
      "displayName": "samiul islam",
      "photoUrl": "https://lh3.googleusercontent.com/-HLS0DGM8MNs/AAAAAAAAAAI/AAAAAAAACFU/yVcQtGcu6X8/s64/photo.jpg",
      "userId": "01102536367288735503"
     },
     "user_tz": -540
    },
    "id": "fEzFzKWsrLxl",
    "outputId": "2bd696ff-27bc-4791-f566-aa65c8b6b0ee"
   },
   "outputs": [
    {
     "data": {
      "text/plain": [
       "['dataset2-master']"
      ]
     },
     "execution_count": 5,
     "metadata": {
      "tags": []
     },
     "output_type": "execute_result"
    }
   ],
   "source": [
    "os.listdir(base_dir)"
   ]
  },
  {
   "cell_type": "code",
   "execution_count": null,
   "metadata": {
    "colab": {
     "base_uri": "https://localhost:8080/",
     "height": 34
    },
    "colab_type": "code",
    "executionInfo": {
     "elapsed": 488,
     "status": "ok",
     "timestamp": 1594389674997,
     "user": {
      "displayName": "samiul islam",
      "photoUrl": "https://lh3.googleusercontent.com/-HLS0DGM8MNs/AAAAAAAAAAI/AAAAAAAACFU/yVcQtGcu6X8/s64/photo.jpg",
      "userId": "01102536367288735503"
     },
     "user_tz": -540
    },
    "id": "RWTIulFarLxq",
    "outputId": "b91fe986-3a9f-4d3d-f16c-f7fa3940aba1"
   },
   "outputs": [
    {
     "data": {
      "text/plain": [
       "['labels.csv', 'images']"
      ]
     },
     "execution_count": 5,
     "metadata": {
      "tags": []
     },
     "output_type": "execute_result"
    }
   ],
   "source": [
    "datasets = os.listdir(base_dir+'/dataset2-master')\n",
    "datasets"
   ]
  },
  {
   "cell_type": "code",
   "execution_count": null,
   "metadata": {
    "colab": {},
    "colab_type": "code",
    "id": "2bhxU3AmrLxt"
   },
   "outputs": [],
   "source": [
    "labels = pd.read_csv('/tmp/dataset2-master/dataset2-master/labels.csv')"
   ]
  },
  {
   "cell_type": "code",
   "execution_count": null,
   "metadata": {
    "colab": {
     "base_uri": "https://localhost:8080/",
     "height": 204
    },
    "colab_type": "code",
    "executionInfo": {
     "elapsed": 606,
     "status": "ok",
     "timestamp": 1594368919284,
     "user": {
      "displayName": "samiul islam",
      "photoUrl": "https://lh3.googleusercontent.com/-HLS0DGM8MNs/AAAAAAAAAAI/AAAAAAAACFU/yVcQtGcu6X8/s64/photo.jpg",
      "userId": "01102536367288735503"
     },
     "user_tz": -540
    },
    "id": "DxzI4_0GrLxv",
    "outputId": "86195eca-725c-4a7d-b09c-aff0bb4b4763"
   },
   "outputs": [
    {
     "data": {
      "text/html": [
       "<div>\n",
       "<style scoped>\n",
       "    .dataframe tbody tr th:only-of-type {\n",
       "        vertical-align: middle;\n",
       "    }\n",
       "\n",
       "    .dataframe tbody tr th {\n",
       "        vertical-align: top;\n",
       "    }\n",
       "\n",
       "    .dataframe thead th {\n",
       "        text-align: right;\n",
       "    }\n",
       "</style>\n",
       "<table border=\"1\" class=\"dataframe\">\n",
       "  <thead>\n",
       "    <tr style=\"text-align: right;\">\n",
       "      <th></th>\n",
       "      <th>Unnamed: 0</th>\n",
       "      <th>Image</th>\n",
       "      <th>Category</th>\n",
       "    </tr>\n",
       "  </thead>\n",
       "  <tbody>\n",
       "    <tr>\n",
       "      <th>0</th>\n",
       "      <td>NaN</td>\n",
       "      <td>0</td>\n",
       "      <td>NEUTROPHIL</td>\n",
       "    </tr>\n",
       "    <tr>\n",
       "      <th>1</th>\n",
       "      <td>NaN</td>\n",
       "      <td>1</td>\n",
       "      <td>NEUTROPHIL</td>\n",
       "    </tr>\n",
       "    <tr>\n",
       "      <th>2</th>\n",
       "      <td>NaN</td>\n",
       "      <td>2</td>\n",
       "      <td>NEUTROPHIL</td>\n",
       "    </tr>\n",
       "    <tr>\n",
       "      <th>3</th>\n",
       "      <td>NaN</td>\n",
       "      <td>3</td>\n",
       "      <td>NEUTROPHIL</td>\n",
       "    </tr>\n",
       "    <tr>\n",
       "      <th>4</th>\n",
       "      <td>NaN</td>\n",
       "      <td>4</td>\n",
       "      <td>NEUTROPHIL</td>\n",
       "    </tr>\n",
       "  </tbody>\n",
       "</table>\n",
       "</div>"
      ],
      "text/plain": [
       "   Unnamed: 0  Image    Category\n",
       "0         NaN      0  NEUTROPHIL\n",
       "1         NaN      1  NEUTROPHIL\n",
       "2         NaN      2  NEUTROPHIL\n",
       "3         NaN      3  NEUTROPHIL\n",
       "4         NaN      4  NEUTROPHIL"
      ]
     },
     "execution_count": 22,
     "metadata": {
      "tags": []
     },
     "output_type": "execute_result"
    }
   ],
   "source": [
    "labels.head()"
   ]
  },
  {
   "cell_type": "code",
   "execution_count": 6,
   "metadata": {
    "colab": {
     "base_uri": "https://localhost:8080/",
     "height": 34
    },
    "colab_type": "code",
    "executionInfo": {
     "elapsed": 914,
     "status": "ok",
     "timestamp": 1594555091220,
     "user": {
      "displayName": "samiul islam",
      "photoUrl": "https://lh3.googleusercontent.com/-HLS0DGM8MNs/AAAAAAAAAAI/AAAAAAAACFU/yVcQtGcu6X8/s64/photo.jpg",
      "userId": "01102536367288735503"
     },
     "user_tz": -540
    },
    "id": "xlbO4jParLxy",
    "outputId": "685d0fa7-7d75-4a51-8b3e-c4aa4474ff1a"
   },
   "outputs": [
    {
     "data": {
      "text/plain": [
       "['TRAIN', 'TEST_SIMPLE', 'TEST']"
      ]
     },
     "execution_count": 6,
     "metadata": {
      "tags": []
     },
     "output_type": "execute_result"
    }
   ],
   "source": [
    "images_path = '/tmp/dataset2-master/dataset2-master/images'\n",
    "os.listdir(images_path)"
   ]
  },
  {
   "cell_type": "code",
   "execution_count": 7,
   "metadata": {
    "colab": {},
    "colab_type": "code",
    "executionInfo": {
     "elapsed": 849,
     "status": "ok",
     "timestamp": 1594555093137,
     "user": {
      "displayName": "samiul islam",
      "photoUrl": "https://lh3.googleusercontent.com/-HLS0DGM8MNs/AAAAAAAAAAI/AAAAAAAACFU/yVcQtGcu6X8/s64/photo.jpg",
      "userId": "01102536367288735503"
     },
     "user_tz": -540
    },
    "id": "7NJusOgkrLx2"
   },
   "outputs": [],
   "source": [
    "training_path = images_path+'/TRAIN'\n",
    "validation_path = images_path+'/TEST'\n",
    "testing_path = images_path+'/TEST_SIMPLE'"
   ]
  },
  {
   "cell_type": "code",
   "execution_count": 8,
   "metadata": {
    "colab": {
     "base_uri": "https://localhost:8080/",
     "height": 34
    },
    "colab_type": "code",
    "executionInfo": {
     "elapsed": 646,
     "status": "ok",
     "timestamp": 1594555094902,
     "user": {
      "displayName": "samiul islam",
      "photoUrl": "https://lh3.googleusercontent.com/-HLS0DGM8MNs/AAAAAAAAAAI/AAAAAAAACFU/yVcQtGcu6X8/s64/photo.jpg",
      "userId": "01102536367288735503"
     },
     "user_tz": -540
    },
    "id": "i5hnBvs5rLx5",
    "outputId": "9c0ac6ba-b2fd-4d04-9df6-1f99503a66f1"
   },
   "outputs": [
    {
     "data": {
      "text/plain": [
       "['NEUTROPHIL', 'MONOCYTE', 'EOSINOPHIL', 'LYMPHOCYTE']"
      ]
     },
     "execution_count": 8,
     "metadata": {
      "tags": []
     },
     "output_type": "execute_result"
    }
   ],
   "source": [
    "os.listdir(testing_path)"
   ]
  },
  {
   "cell_type": "markdown",
   "metadata": {
    "colab_type": "text",
    "id": "7qE7G1tQrLx8"
   },
   "source": [
    "### Data Pre-processing for Model "
   ]
  },
  {
   "cell_type": "code",
   "execution_count": null,
   "metadata": {
    "colab": {},
    "colab_type": "code",
    "id": "L53F9oeYrLx8",
    "outputId": "d35050d3-2171-4976-c2df-d30684efbbe3"
   },
   "outputs": [
    {
     "name": "stdout",
     "output_type": "stream",
     "text": [
      "Found 9957 images belonging to 4 classes.\n",
      "Found 2487 images belonging to 4 classes.\n",
      "Found 71 images belonging to 4 classes.\n"
     ]
    }
   ],
   "source": [
    "\n",
    "\n",
    "'''\n",
    "# Add our data-augmentation parameters to ImageDataGenerator\n",
    "train_datagen = ImageDataGenerator(rescale = 1./255.,\n",
    "                                   rotation_range = 40,\n",
    "                                   width_shift_range = 0.2,\n",
    "                                   height_shift_range = 0.2,\n",
    "                                   shear_range = 0.2,\n",
    "                                   zoom_range = 0.2,\n",
    "                                   horizontal_flip = True)\n",
    "'''\n",
    "#Training data \n",
    "train_datagen = ImageDataGenerator(rescale = 1./255.)\n",
    "# Flow training images in batches of 20 using train_datagen generator\n",
    "train_generator = train_datagen.flow_from_directory(training_path,\n",
    "                                                    batch_size = 20,\n",
    "                                                    class_mode = 'categorical', \n",
    "                                                    target_size = (120, 160))  \n",
    "\n",
    "#validation data\n",
    "validation_datagen = ImageDataGenerator(rescale = 1./255)\n",
    "validation_generator = train_datagen.flow_from_directory(validation_path,\n",
    "                                                    batch_size = 20,\n",
    "                                                    class_mode = 'categorical', \n",
    "                                                    target_size = (120, 160))  \n",
    "\n",
    "#Testing data\n",
    "testing_datagen = ImageDataGenerator(rescale = 1./255)\n",
    "testing_generator = train_datagen.flow_from_directory(testing_path,\n",
    "                                                    batch_size = 4,\n",
    "                                                    class_mode = 'categorical', \n",
    "                                                    target_size = (120, 160))  \n"
   ]
  },
  {
   "cell_type": "markdown",
   "metadata": {
    "colab_type": "text",
    "id": "SKHGWkrarLyB"
   },
   "source": [
    "### Exploring of Classes"
   ]
  },
  {
   "cell_type": "code",
   "execution_count": null,
   "metadata": {
    "colab": {},
    "colab_type": "code",
    "id": "awWAwgbMrLyB",
    "outputId": "58f36bda-22df-4b96-bb15-13b48dce2ce8"
   },
   "outputs": [
    {
     "data": {
      "text/plain": [
       "array([[1., 0., 0., 0.],\n",
       "       [0., 0., 1., 0.],\n",
       "       [1., 0., 0., 0.],\n",
       "       [0., 0., 0., 1.]], dtype=float32)"
      ]
     },
     "execution_count": 31,
     "metadata": {
      "tags": []
     },
     "output_type": "execute_result"
    }
   ],
   "source": [
    "imgs, labels = next(testing_generator)\n",
    "labels"
   ]
  },
  {
   "cell_type": "code",
   "execution_count": null,
   "metadata": {
    "colab": {},
    "colab_type": "code",
    "id": "bZ6hCsWZrLyF",
    "outputId": "a169d5b3-826e-4447-a885-4068950af10d"
   },
   "outputs": [
    {
     "data": {
      "text/plain": [
       "{'EOSINOPHIL': 0, 'LYMPHOCYTE': 1, 'MONOCYTE': 2, 'NEUTROPHIL': 3}"
      ]
     },
     "execution_count": 28,
     "metadata": {
      "tags": []
     },
     "output_type": "execute_result"
    }
   ],
   "source": [
    "testing_generator.class_indices"
   ]
  },
  {
   "cell_type": "markdown",
   "metadata": {
    "colab": {},
    "colab_type": "code",
    "id": "avlhtK5mrLyH"
   },
   "source": [
    "### Visualizing Images"
   ]
  },
  {
   "cell_type": "code",
   "execution_count": null,
   "metadata": {
    "colab": {},
    "colab_type": "code",
    "id": "_xYuvESjrLyK"
   },
   "outputs": [],
   "source": [
    "#plot images with labels\n",
    "def plot_images(ims, figsize=(12,16), rows=1, interp=False, titles=None):\n",
    "    f = plt.figure(figsize=figsize)\n",
    "    cols = len(ims)//rows if len(ims)%2 == 0 else len(ims)//rows + 1\n",
    "    for i in range(len(ims)):\n",
    "        sp = f.add_subplot(rows, cols, i+1)\n",
    "        sp.axis('Off')\n",
    "        if titles is not None:\n",
    "            sp.set_title(titles[i], fontsize=16)\n",
    "        plt.imshow(ims[i], interpolation=None if interp else 'none')"
   ]
  },
  {
   "cell_type": "code",
   "execution_count": null,
   "metadata": {
    "colab": {},
    "colab_type": "code",
    "id": "JDSsAq--rLyM",
    "outputId": "f20707a8-a9f3-4a2a-ca8a-35423428e02b"
   },
   "outputs": [
    {
     "data": {
      "image/png": "[encoded data removed]",
      "text/plain": [
       "<Figure size 864x1152 with 4 Axes>"
      ]
     },
     "metadata": {
      "needs_background": "light",
      "tags": []
     },
     "output_type": "display_data"
    }
   ],
   "source": [
    "plot_images(imgs[:10], titles=labels)"
   ]
  },
  {
   "cell_type": "markdown",
   "metadata": {
    "colab_type": "text",
    "id": "A4ROB_kprLyP"
   },
   "source": [
    "### Building and Training a simple model"
   ]
  },
  {
   "cell_type": "code",
   "execution_count": null,
   "metadata": {
    "colab": {},
    "colab_type": "code",
    "id": "7BoD_O7UrLyP"
   },
   "outputs": [],
   "source": [
    "# Define the first simple model\n",
    "first_model = Sequential()\n",
    "\n",
    "first_model.add(Conv2D(4, 5, strides=(4, 4), padding='same', activation='relu', input_shape=(120, 160, 3)))\n",
    "first_model.add(Conv2D(4, 5, strides=(4, 4), padding='same', activation='relu'))\n",
    "first_model.add(Flatten())\n",
    "first_model.add(Dense(16, activation='relu'))\n",
    "first_model.add(Dense(4, activation='softmax'))"
   ]
  },
  {
   "cell_type": "code",
   "execution_count": null,
   "metadata": {
    "colab": {},
    "colab_type": "code",
    "id": "60VbIYIZrLyS"
   },
   "outputs": [],
   "source": [
    "first_model.compile(Adam(lr=0.001), loss='categorical_crossentropy', metrics=['accuracy'])"
   ]
  },
  {
   "cell_type": "code",
   "execution_count": null,
   "metadata": {
    "colab": {},
    "colab_type": "code",
    "id": "K54_rxCBrLyU",
    "outputId": "73e6f39f-2f49-4df3-b46e-4f4f4e2384ae"
   },
   "outputs": [
    {
     "name": "stdout",
     "output_type": "stream",
     "text": [
      "Model: \"sequential_2\"\n",
      "_________________________________________________________________\n",
      "Layer (type)                 Output Shape              Param #   \n",
      "=================================================================\n",
      "conv2d_3 (Conv2D)            (None, 30, 40, 4)         304       \n",
      "_________________________________________________________________\n",
      "conv2d_4 (Conv2D)            (None, 8, 10, 4)          404       \n",
      "_________________________________________________________________\n",
      "flatten_2 (Flatten)          (None, 320)               0         \n",
      "_________________________________________________________________\n",
      "dense_1 (Dense)              (None, 16)                5136      \n",
      "_________________________________________________________________\n",
      "dense_2 (Dense)              (None, 4)                 68        \n",
      "=================================================================\n",
      "Total params: 5,912\n",
      "Trainable params: 5,912\n",
      "Non-trainable params: 0\n",
      "_________________________________________________________________\n"
     ]
    }
   ],
   "source": [
    "first_model.summary()"
   ]
  },
  {
   "cell_type": "code",
   "execution_count": null,
   "metadata": {
    "colab": {},
    "colab_type": "code",
    "id": "IRsTRTXRrLyX",
    "outputId": "5f1b2ab5-219f-4885-c9f6-d46871f82f51"
   },
   "outputs": [
    {
     "name": "stdout",
     "output_type": "stream",
     "text": [
      "Epoch 1/25\n",
      " - 139s - loss: 1.3893 - accuracy: 0.2553 - val_loss: 1.3854 - val_accuracy: 0.2500\n",
      "Epoch 2/25\n",
      " - 111s - loss: 1.3870 - accuracy: 0.2404 - val_loss: 1.3857 - val_accuracy: 0.2700\n",
      "Epoch 3/25\n",
      " - 73s - loss: 1.3863 - accuracy: 0.2450 - val_loss: 1.3820 - val_accuracy: 0.2700\n",
      "Epoch 4/25\n",
      " - 13s - loss: 1.3860 - accuracy: 0.2605 - val_loss: 1.3939 - val_accuracy: 0.2275\n",
      "Epoch 5/25\n",
      " - 12s - loss: 1.3858 - accuracy: 0.2554 - val_loss: 1.3887 - val_accuracy: 0.2525\n",
      "Epoch 6/25\n",
      " - 12s - loss: 1.3850 - accuracy: 0.2612 - val_loss: 1.3805 - val_accuracy: 0.2200\n",
      "Epoch 7/25\n",
      " - 9s - loss: 1.3850 - accuracy: 0.2618 - val_loss: 1.3871 - val_accuracy: 0.2584\n",
      "Epoch 8/25\n",
      " - 9s - loss: 1.3845 - accuracy: 0.2742 - val_loss: 1.3925 - val_accuracy: 0.2550\n",
      "Epoch 9/25\n",
      " - 9s - loss: 1.3829 - accuracy: 0.2702 - val_loss: 1.3701 - val_accuracy: 0.2275\n",
      "Epoch 10/25\n",
      " - 9s - loss: 1.3835 - accuracy: 0.2725 - val_loss: 1.4000 - val_accuracy: 0.2425\n",
      "Epoch 11/25\n",
      " - 9s - loss: 1.3783 - accuracy: 0.2733 - val_loss: 1.3642 - val_accuracy: 0.2400\n",
      "Epoch 12/25\n",
      " - 9s - loss: 1.3791 - accuracy: 0.2892 - val_loss: 1.3850 - val_accuracy: 0.2575\n",
      "Epoch 13/25\n",
      " - 9s - loss: 1.3731 - accuracy: 0.2865 - val_loss: 1.3563 - val_accuracy: 0.2093\n",
      "Epoch 14/25\n",
      " - 9s - loss: 1.3721 - accuracy: 0.3045 - val_loss: 1.4099 - val_accuracy: 0.2675\n",
      "Epoch 15/25\n",
      " - 9s - loss: 1.3709 - accuracy: 0.3037 - val_loss: 1.4177 - val_accuracy: 0.2425\n",
      "Epoch 16/25\n",
      " - 9s - loss: 1.3607 - accuracy: 0.3100 - val_loss: 1.3532 - val_accuracy: 0.2675\n",
      "Epoch 17/25\n",
      " - 9s - loss: 1.3674 - accuracy: 0.3095 - val_loss: 1.4522 - val_accuracy: 0.2550\n",
      "Epoch 18/25\n",
      " - 9s - loss: 1.3578 - accuracy: 0.3095 - val_loss: 1.5007 - val_accuracy: 0.2575\n",
      "Epoch 19/25\n",
      " - 9s - loss: 1.3560 - accuracy: 0.3205 - val_loss: 1.4163 - val_accuracy: 0.2791\n",
      "Epoch 20/25\n",
      " - 9s - loss: 1.3564 - accuracy: 0.3200 - val_loss: 1.4226 - val_accuracy: 0.2525\n",
      "Epoch 21/25\n",
      " - 9s - loss: 1.3407 - accuracy: 0.3428 - val_loss: 1.4012 - val_accuracy: 0.2800\n",
      "Epoch 22/25\n",
      " - 9s - loss: 1.3311 - accuracy: 0.3593 - val_loss: 1.4059 - val_accuracy: 0.3100\n",
      "Epoch 23/25\n",
      " - 9s - loss: 1.2970 - accuracy: 0.3920 - val_loss: 1.2803 - val_accuracy: 0.3675\n",
      "Epoch 24/25\n",
      " - 9s - loss: 1.2394 - accuracy: 0.4310 - val_loss: 1.3444 - val_accuracy: 0.3775\n",
      "Epoch 25/25\n",
      " - 9s - loss: 1.2173 - accuracy: 0.4306 - val_loss: 1.4714 - val_accuracy: 0.3359\n"
     ]
    },
    {
     "data": {
      "text/plain": [
       "<keras.callbacks.callbacks.History at 0x1c1f5ef7ec8>"
      ]
     },
     "execution_count": 38,
     "metadata": {
      "tags": []
     },
     "output_type": "execute_result"
    }
   ],
   "source": [
    "#Training the first simple model\n",
    "first_model.fit_generator(train_generator, \n",
    "                    steps_per_epoch=200,\n",
    "                    validation_data=validation_generator,\n",
    "                    validation_steps=20,\n",
    "                    epochs=25, verbose=2)"
   ]
  },
  {
   "cell_type": "code",
   "execution_count": null,
   "metadata": {
    "colab": {},
    "colab_type": "code",
    "id": "MnegBv6frLya",
    "outputId": "e4707fea-a316-4509-a196-c400faf39472"
   },
   "outputs": [
    {
     "data": {
      "text/html": [
       "<div>\n",
       "<style scoped>\n",
       "    .dataframe tbody tr th:only-of-type {\n",
       "        vertical-align: middle;\n",
       "    }\n",
       "\n",
       "    .dataframe tbody tr th {\n",
       "        vertical-align: top;\n",
       "    }\n",
       "\n",
       "    .dataframe thead th {\n",
       "        text-align: right;\n",
       "    }\n",
       "</style>\n",
       "<table border=\"1\" class=\"dataframe\">\n",
       "  <thead>\n",
       "    <tr style=\"text-align: right;\">\n",
       "      <th></th>\n",
       "      <th>val_loss</th>\n",
       "      <th>val_accuracy</th>\n",
       "      <th>loss</th>\n",
       "      <th>accuracy</th>\n",
       "    </tr>\n",
       "  </thead>\n",
       "  <tbody>\n",
       "    <tr>\n",
       "      <th>0</th>\n",
       "      <td>1.385404</td>\n",
       "      <td>0.2500</td>\n",
       "      <td>1.389332</td>\n",
       "      <td>0.255250</td>\n",
       "    </tr>\n",
       "    <tr>\n",
       "      <th>1</th>\n",
       "      <td>1.385697</td>\n",
       "      <td>0.2700</td>\n",
       "      <td>1.387022</td>\n",
       "      <td>0.240430</td>\n",
       "    </tr>\n",
       "    <tr>\n",
       "      <th>2</th>\n",
       "      <td>1.381998</td>\n",
       "      <td>0.2700</td>\n",
       "      <td>1.386297</td>\n",
       "      <td>0.245000</td>\n",
       "    </tr>\n",
       "    <tr>\n",
       "      <th>3</th>\n",
       "      <td>1.393948</td>\n",
       "      <td>0.2275</td>\n",
       "      <td>1.386035</td>\n",
       "      <td>0.260500</td>\n",
       "    </tr>\n",
       "    <tr>\n",
       "      <th>4</th>\n",
       "      <td>1.388717</td>\n",
       "      <td>0.2525</td>\n",
       "      <td>1.385828</td>\n",
       "      <td>0.255442</td>\n",
       "    </tr>\n",
       "  </tbody>\n",
       "</table>\n",
       "</div>"
      ],
      "text/plain": [
       "   val_loss  val_accuracy      loss  accuracy\n",
       "0  1.385404        0.2500  1.389332  0.255250\n",
       "1  1.385697        0.2700  1.387022  0.240430\n",
       "2  1.381998        0.2700  1.386297  0.245000\n",
       "3  1.393948        0.2275  1.386035  0.260500\n",
       "4  1.388717        0.2525  1.385828  0.255442"
      ]
     },
     "execution_count": 39,
     "metadata": {
      "tags": []
     },
     "output_type": "execute_result"
    }
   ],
   "source": [
    "first_model_loss = pd.DataFrame(first_model.history.history)\n",
    "first_model_loss.head()"
   ]
  },
  {
   "cell_type": "code",
   "execution_count": null,
   "metadata": {
    "colab": {},
    "colab_type": "code",
    "id": "nsyffbVHrLyc",
    "outputId": "355e44ca-d9b2-4361-f580-59f1f138198e"
   },
   "outputs": [
    {
     "data": {
      "text/plain": [
       "<matplotlib.axes._subplots.AxesSubplot at 0x1c180bc9bc8>"
      ]
     },
     "execution_count": 41,
     "metadata": {
      "tags": []
     },
     "output_type": "execute_result"
    },
    {
     "data": {
      "image/png": "[encoded data removed]",
      "text/plain": [
       "<Figure size 432x288 with 1 Axes>"
      ]
     },
     "metadata": {
      "needs_background": "light",
      "tags": []
     },
     "output_type": "display_data"
    }
   ],
   "source": [
    "first_model_loss[['accuracy','val_accuracy']].plot()"
   ]
  },
  {
   "cell_type": "code",
   "execution_count": null,
   "metadata": {
    "colab": {},
    "colab_type": "code",
    "id": "Xa-jPUuerLyf",
    "outputId": "600999b8-1b5f-4764-a032-245f509eb801"
   },
   "outputs": [
    {
     "data": {
      "text/plain": [
       "<matplotlib.axes._subplots.AxesSubplot at 0x1c180a22f48>"
      ]
     },
     "execution_count": 42,
     "metadata": {
      "tags": []
     },
     "output_type": "execute_result"
    },
    {
     "data": {
      "image/png": "[encoded data removed]",
      "text/plain": [
       "<Figure size 432x288 with 1 Axes>"
      ]
     },
     "metadata": {
      "needs_background": "light",
      "tags": []
     },
     "output_type": "display_data"
    }
   ],
   "source": [
    "first_model_loss[['loss','val_loss']].plot()"
   ]
  },
  {
   "cell_type": "markdown",
   "metadata": {
    "colab_type": "text",
    "id": "9RC9SzPJrLyh"
   },
   "source": [
    "### Final Model with Regularization\n",
    "    ** BatchNormalization\n",
    "    ** Dropout [20% dropout]"
   ]
  },
  {
   "cell_type": "code",
   "execution_count": null,
   "metadata": {
    "colab": {},
    "colab_type": "code",
    "id": "sN3KCZD4rLyi"
   },
   "outputs": [],
   "source": [
    "# Define the final model\n",
    "final_model = Sequential()\n",
    "\n",
    "final_model.add(Conv2D(16, 5, strides=(2, 2), padding='same', activation='relu', input_shape=(120, 160, 3)))\n",
    "final_model.add(BatchNormalization())\n",
    "final_model.add(Dropout(0.2))\n",
    "\n",
    "final_model.add(Conv2D(8, 5, strides=(2, 2), padding='same', activation='relu'))\n",
    "final_model.add(BatchNormalization())\n",
    "final_model.add(Dropout(0.2))\n",
    "\n",
    "final_model.add(Conv2D(4, 5, strides=(2, 2), padding='same', activation='relu'))\n",
    "final_model.add(BatchNormalization())\n",
    "final_model.add(Dropout(0.2))\n",
    "\n",
    "final_model.add(Conv2D(4, 5, strides=(2, 2), padding='same', activation='relu'))\n",
    "final_model.add(BatchNormalization())\n",
    "final_model.add(Dropout(0.2))\n",
    "\n",
    "final_model.add(Flatten())\n",
    "\n",
    "final_model.add(Dense(32, activation='relu'))\n",
    "final_model.add(Dropout(0.2))\n",
    "\n",
    "final_model.add(Dense(16, activation='relu'))\n",
    "final_model.add(Dropout(0.2))\n",
    "\n",
    "final_model.add(Dense(8, activation='relu'))\n",
    "final_model.add(Dropout(0.2))\n",
    "\n",
    "final_model.add(Dense(4, activation='softmax'))"
   ]
  },
  {
   "cell_type": "code",
   "execution_count": null,
   "metadata": {
    "colab": {},
    "colab_type": "code",
    "id": "t1pyZtlGrLyk"
   },
   "outputs": [],
   "source": [
    "final_model.compile(Adam(lr=0.001), loss='categorical_crossentropy', metrics=['accuracy'])"
   ]
  },
  {
   "cell_type": "code",
   "execution_count": null,
   "metadata": {
    "colab": {},
    "colab_type": "code",
    "id": "VMdcgd43rLyn",
    "outputId": "16afbc5a-1d19-4428-d9e5-5f4948d4f7ab"
   },
   "outputs": [
    {
     "name": "stdout",
     "output_type": "stream",
     "text": [
      "Model: \"sequential_3\"\n",
      "_________________________________________________________________\n",
      "Layer (type)                 Output Shape              Param #   \n",
      "=================================================================\n",
      "conv2d_5 (Conv2D)            (None, 60, 80, 16)        1216      \n",
      "_________________________________________________________________\n",
      "batch_normalization_1 (Batch (None, 60, 80, 16)        64        \n",
      "_________________________________________________________________\n",
      "dropout_1 (Dropout)          (None, 60, 80, 16)        0         \n",
      "_________________________________________________________________\n",
      "conv2d_6 (Conv2D)            (None, 30, 40, 8)         3208      \n",
      "_________________________________________________________________\n",
      "batch_normalization_2 (Batch (None, 30, 40, 8)         32        \n",
      "_________________________________________________________________\n",
      "dropout_2 (Dropout)          (None, 30, 40, 8)         0         \n",
      "_________________________________________________________________\n",
      "conv2d_7 (Conv2D)            (None, 15, 20, 4)         804       \n",
      "_________________________________________________________________\n",
      "batch_normalization_3 (Batch (None, 15, 20, 4)         16        \n",
      "_________________________________________________________________\n",
      "dropout_3 (Dropout)          (None, 15, 20, 4)         0         \n",
      "_________________________________________________________________\n",
      "conv2d_8 (Conv2D)            (None, 8, 10, 4)          404       \n",
      "_________________________________________________________________\n",
      "batch_normalization_4 (Batch (None, 8, 10, 4)          16        \n",
      "_________________________________________________________________\n",
      "dropout_4 (Dropout)          (None, 8, 10, 4)          0         \n",
      "_________________________________________________________________\n",
      "flatten_3 (Flatten)          (None, 320)               0         \n",
      "_________________________________________________________________\n",
      "dense_3 (Dense)              (None, 32)                10272     \n",
      "_________________________________________________________________\n",
      "dropout_5 (Dropout)          (None, 32)                0         \n",
      "_________________________________________________________________\n",
      "dense_4 (Dense)              (None, 16)                528       \n",
      "_________________________________________________________________\n",
      "dropout_6 (Dropout)          (None, 16)                0         \n",
      "_________________________________________________________________\n",
      "dense_5 (Dense)              (None, 8)                 136       \n",
      "_________________________________________________________________\n",
      "dropout_7 (Dropout)          (None, 8)                 0         \n",
      "_________________________________________________________________\n",
      "dense_6 (Dense)              (None, 4)                 36        \n",
      "=================================================================\n",
      "Total params: 16,732\n",
      "Trainable params: 16,668\n",
      "Non-trainable params: 64\n",
      "_________________________________________________________________\n"
     ]
    }
   ],
   "source": [
    "final_model.summary()"
   ]
  },
  {
   "cell_type": "code",
   "execution_count": null,
   "metadata": {
    "colab": {},
    "colab_type": "code",
    "id": "PiW4lZiDrLyp",
    "outputId": "e26ac439-a418-4666-c358-5360f7180a34"
   },
   "outputs": [
    {
     "name": "stdout",
     "output_type": "stream",
     "text": [
      "Epoch 1/50\n",
      " - 153s - loss: 1.4358 - accuracy: 0.2643 - val_loss: 1.3875 - val_accuracy: 0.2500\n",
      "Epoch 2/50\n",
      " - 106s - loss: 1.3930 - accuracy: 0.2474 - val_loss: 1.3896 - val_accuracy: 0.2650\n",
      "Epoch 3/50\n",
      " - 81s - loss: 1.3888 - accuracy: 0.2615 - val_loss: 1.3996 - val_accuracy: 0.2300\n",
      "Epoch 4/50\n",
      " - 79s - loss: 1.3886 - accuracy: 0.2707 - val_loss: 1.4507 - val_accuracy: 0.2500\n",
      "Epoch 5/50\n",
      " - 122s - loss: 1.3810 - accuracy: 0.2842 - val_loss: 1.3844 - val_accuracy: 0.2575\n",
      "Epoch 6/50\n",
      " - 61s - loss: 1.3698 - accuracy: 0.2937 - val_loss: 1.4819 - val_accuracy: 0.3050\n",
      "Epoch 7/50\n",
      " - 57s - loss: 1.3596 - accuracy: 0.3067 - val_loss: 2.4292 - val_accuracy: 0.2636\n",
      "Epoch 8/50\n",
      " - 69s - loss: 1.3624 - accuracy: 0.3145 - val_loss: 2.2943 - val_accuracy: 0.2775\n",
      "Epoch 9/50\n",
      " - 44s - loss: 1.3505 - accuracy: 0.3268 - val_loss: 2.0811 - val_accuracy: 0.2550\n",
      "Epoch 10/50\n",
      " - 43s - loss: 1.3426 - accuracy: 0.3203 - val_loss: 3.6079 - val_accuracy: 0.2450\n",
      "Epoch 11/50\n",
      " - 39s - loss: 1.3453 - accuracy: 0.3210 - val_loss: 2.1067 - val_accuracy: 0.2825\n",
      "Epoch 12/50\n",
      " - 39s - loss: 1.3355 - accuracy: 0.3493 - val_loss: 1.3922 - val_accuracy: 0.2475\n",
      "Epoch 13/50\n",
      " - 37s - loss: 1.3176 - accuracy: 0.3445 - val_loss: 2.9106 - val_accuracy: 0.2300\n",
      "Epoch 14/50\n",
      " - 37s - loss: 1.3115 - accuracy: 0.3475 - val_loss: 1.6117 - val_accuracy: 0.2575\n",
      "Epoch 15/50\n",
      " - 37s - loss: 1.2980 - accuracy: 0.3545 - val_loss: 1.6763 - val_accuracy: 0.2175\n",
      "Epoch 16/50\n",
      " - 37s - loss: 1.2804 - accuracy: 0.3675 - val_loss: 1.2947 - val_accuracy: 0.3300\n",
      "Epoch 17/50\n",
      " - 37s - loss: 1.2468 - accuracy: 0.3812 - val_loss: 1.3449 - val_accuracy: 0.3350\n",
      "Epoch 18/50\n",
      " - 38s - loss: 1.1822 - accuracy: 0.4121 - val_loss: 1.2087 - val_accuracy: 0.3975\n",
      "Epoch 19/50\n",
      " - 37s - loss: 1.1580 - accuracy: 0.4272 - val_loss: 1.2521 - val_accuracy: 0.4961\n",
      "Epoch 20/50\n",
      " - 36s - loss: 1.1464 - accuracy: 0.4360 - val_loss: 1.4146 - val_accuracy: 0.4075\n",
      "Epoch 21/50\n",
      " - 36s - loss: 1.1162 - accuracy: 0.4416 - val_loss: 1.7963 - val_accuracy: 0.2425\n",
      "Epoch 22/50\n",
      " - 36s - loss: 1.0797 - accuracy: 0.4565 - val_loss: 1.1008 - val_accuracy: 0.4675\n",
      "Epoch 23/50\n",
      " - 36s - loss: 1.0816 - accuracy: 0.4530 - val_loss: 1.0521 - val_accuracy: 0.4950\n",
      "Epoch 24/50\n",
      " - 36s - loss: 1.0497 - accuracy: 0.4641 - val_loss: 0.7869 - val_accuracy: 0.5200\n",
      "Epoch 25/50\n",
      " - 36s - loss: 1.0295 - accuracy: 0.4767 - val_loss: 1.0862 - val_accuracy: 0.4186\n",
      "Epoch 26/50\n",
      " - 36s - loss: 1.0307 - accuracy: 0.4876 - val_loss: 1.1604 - val_accuracy: 0.4825\n",
      "Epoch 27/50\n",
      " - 36s - loss: 1.0089 - accuracy: 0.4970 - val_loss: 2.0273 - val_accuracy: 0.4075\n",
      "Epoch 28/50\n",
      " - 36s - loss: 1.0084 - accuracy: 0.5055 - val_loss: 1.2618 - val_accuracy: 0.4625\n",
      "Epoch 29/50\n",
      " - 36s - loss: 0.9789 - accuracy: 0.5380 - val_loss: 1.3097 - val_accuracy: 0.5150\n",
      "Epoch 30/50\n",
      " - 36s - loss: 0.9218 - accuracy: 0.5907 - val_loss: 1.6321 - val_accuracy: 0.4800\n",
      "Epoch 31/50\n",
      " - 36s - loss: 0.8639 - accuracy: 0.6102 - val_loss: 0.7002 - val_accuracy: 0.7375\n",
      "Epoch 32/50\n",
      " - 37s - loss: 0.8595 - accuracy: 0.6152 - val_loss: 0.8451 - val_accuracy: 0.6822\n",
      "Epoch 33/50\n",
      " - 36s - loss: 0.8349 - accuracy: 0.6242 - val_loss: 0.9154 - val_accuracy: 0.5425\n",
      "Epoch 34/50\n",
      " - 36s - loss: 0.7820 - accuracy: 0.6382 - val_loss: 1.0466 - val_accuracy: 0.5575\n",
      "Epoch 35/50\n",
      " - 36s - loss: 0.7984 - accuracy: 0.6430 - val_loss: 1.8113 - val_accuracy: 0.4600\n",
      "Epoch 36/50\n",
      " - 36s - loss: 0.7804 - accuracy: 0.6233 - val_loss: 1.1391 - val_accuracy: 0.5650\n",
      "Epoch 37/50\n",
      " - 36s - loss: 0.7355 - accuracy: 0.6428 - val_loss: 1.8263 - val_accuracy: 0.6100\n",
      "Epoch 38/50\n",
      " - 36s - loss: 0.7346 - accuracy: 0.6505 - val_loss: 0.8912 - val_accuracy: 0.5891\n",
      "Epoch 39/50\n",
      " - 36s - loss: 0.7628 - accuracy: 0.6425 - val_loss: 0.9534 - val_accuracy: 0.4550\n",
      "Epoch 40/50\n",
      " - 36s - loss: 0.6864 - accuracy: 0.6507 - val_loss: 2.0905 - val_accuracy: 0.4000\n",
      "Epoch 41/50\n",
      " - 36s - loss: 0.6976 - accuracy: 0.6665 - val_loss: 0.6531 - val_accuracy: 0.6700\n",
      "Epoch 42/50\n",
      " - 36s - loss: 0.7144 - accuracy: 0.6580 - val_loss: 1.2916 - val_accuracy: 0.6100\n",
      "Epoch 43/50\n",
      " - 36s - loss: 0.7073 - accuracy: 0.6615 - val_loss: 0.7250 - val_accuracy: 0.6400\n",
      "Epoch 44/50\n",
      " - 36s - loss: 0.6965 - accuracy: 0.6640 - val_loss: 0.5491 - val_accuracy: 0.7416\n",
      "Epoch 45/50\n",
      " - 37s - loss: 0.6643 - accuracy: 0.6718 - val_loss: 0.6092 - val_accuracy: 0.5250\n",
      "Epoch 46/50\n",
      " - 38s - loss: 0.6734 - accuracy: 0.6715 - val_loss: 1.5797 - val_accuracy: 0.5600\n",
      "Epoch 47/50\n",
      " - 37s - loss: 0.6462 - accuracy: 0.6770 - val_loss: 0.8500 - val_accuracy: 0.7000\n",
      "Epoch 48/50\n",
      " - 37s - loss: 0.6385 - accuracy: 0.6830 - val_loss: 0.4658 - val_accuracy: 0.7175\n",
      "Epoch 49/50\n",
      " - 37s - loss: 0.6320 - accuracy: 0.6783 - val_loss: 0.7709 - val_accuracy: 0.7025\n",
      "Epoch 50/50\n",
      " - 36s - loss: 0.6143 - accuracy: 0.6910 - val_loss: 0.9128 - val_accuracy: 0.6305\n"
     ]
    },
    {
     "data": {
      "text/plain": [
       "<keras.callbacks.callbacks.History at 0x1c18a1daec8>"
      ]
     },
     "execution_count": 49,
     "metadata": {
      "tags": []
     },
     "output_type": "execute_result"
    }
   ],
   "source": [
    "#Training the final model\n",
    "final_model.fit_generator(train_generator, \n",
    "                    steps_per_epoch=200,\n",
    "                    validation_data=validation_generator,\n",
    "                    validation_steps=20,\n",
    "                    epochs=50, verbose=2)"
   ]
  },
  {
   "cell_type": "code",
   "execution_count": null,
   "metadata": {
    "colab": {},
    "colab_type": "code",
    "id": "OEH9nVBhrLyt",
    "outputId": "dabfeca8-a291-43d6-d001-22071bf06bb5"
   },
   "outputs": [
    {
     "data": {
      "text/html": [
       "<div>\n",
       "<style scoped>\n",
       "    .dataframe tbody tr th:only-of-type {\n",
       "        vertical-align: middle;\n",
       "    }\n",
       "\n",
       "    .dataframe tbody tr th {\n",
       "        vertical-align: top;\n",
       "    }\n",
       "\n",
       "    .dataframe thead th {\n",
       "        text-align: right;\n",
       "    }\n",
       "</style>\n",
       "<table border=\"1\" class=\"dataframe\">\n",
       "  <thead>\n",
       "    <tr style=\"text-align: right;\">\n",
       "      <th></th>\n",
       "      <th>val_loss</th>\n",
       "      <th>val_accuracy</th>\n",
       "      <th>loss</th>\n",
       "      <th>accuracy</th>\n",
       "    </tr>\n",
       "  </thead>\n",
       "  <tbody>\n",
       "    <tr>\n",
       "      <th>0</th>\n",
       "      <td>1.387478</td>\n",
       "      <td>0.2500</td>\n",
       "      <td>1.435808</td>\n",
       "      <td>0.264250</td>\n",
       "    </tr>\n",
       "    <tr>\n",
       "      <th>1</th>\n",
       "      <td>1.389564</td>\n",
       "      <td>0.2650</td>\n",
       "      <td>1.393048</td>\n",
       "      <td>0.247436</td>\n",
       "    </tr>\n",
       "    <tr>\n",
       "      <th>2</th>\n",
       "      <td>1.399556</td>\n",
       "      <td>0.2300</td>\n",
       "      <td>1.388776</td>\n",
       "      <td>0.261500</td>\n",
       "    </tr>\n",
       "    <tr>\n",
       "      <th>3</th>\n",
       "      <td>1.450656</td>\n",
       "      <td>0.2500</td>\n",
       "      <td>1.388640</td>\n",
       "      <td>0.270703</td>\n",
       "    </tr>\n",
       "    <tr>\n",
       "      <th>4</th>\n",
       "      <td>1.384447</td>\n",
       "      <td>0.2575</td>\n",
       "      <td>1.380988</td>\n",
       "      <td>0.284250</td>\n",
       "    </tr>\n",
       "  </tbody>\n",
       "</table>\n",
       "</div>"
      ],
      "text/plain": [
       "   val_loss  val_accuracy      loss  accuracy\n",
       "0  1.387478        0.2500  1.435808  0.264250\n",
       "1  1.389564        0.2650  1.393048  0.247436\n",
       "2  1.399556        0.2300  1.388776  0.261500\n",
       "3  1.450656        0.2500  1.388640  0.270703\n",
       "4  1.384447        0.2575  1.380988  0.284250"
      ]
     },
     "execution_count": 51,
     "metadata": {
      "tags": []
     },
     "output_type": "execute_result"
    }
   ],
   "source": [
    "final_model_loss = pd.DataFrame(final_model.history.history)\n",
    "final_model_loss.head()"
   ]
  },
  {
   "cell_type": "code",
   "execution_count": null,
   "metadata": {
    "colab": {},
    "colab_type": "code",
    "id": "B3w4TuAyrLyv",
    "outputId": "eab2d9c2-e2c7-4e67-b5b4-9e1843dc38ea"
   },
   "outputs": [
    {
     "data": {
      "text/plain": [
       "<matplotlib.axes._subplots.AxesSubplot at 0x1c18a1e67c8>"
      ]
     },
     "execution_count": 52,
     "metadata": {
      "tags": []
     },
     "output_type": "execute_result"
    },
    {
     "data": {
      "image/png": "[encoded data removed]",
      "text/plain": [
       "<Figure size 432x288 with 1 Axes>"
      ]
     },
     "metadata": {
      "needs_background": "light",
      "tags": []
     },
     "output_type": "display_data"
    }
   ],
   "source": [
    "final_model_loss[['accuracy','val_accuracy']].plot()"
   ]
  },
  {
   "cell_type": "code",
   "execution_count": null,
   "metadata": {
    "colab": {},
    "colab_type": "code",
    "id": "2dXLiBQ6rLyy",
    "outputId": "c4db9923-bd6c-4ab0-b817-0c31f1fb6e0e"
   },
   "outputs": [
    {
     "data": {
      "text/plain": [
       "<matplotlib.axes._subplots.AxesSubplot at 0x1c18a1e73c8>"
      ]
     },
     "execution_count": 54,
     "metadata": {
      "tags": []
     },
     "output_type": "execute_result"
    },
    {
     "data": {
      "image/png": "[encoded data removed]",
      "text/plain": [
       "<Figure size 432x288 with 1 Axes>"
      ]
     },
     "metadata": {
      "needs_background": "light",
      "tags": []
     },
     "output_type": "display_data"
    }
   ],
   "source": [
    "final_model_loss[['loss','val_loss']].plot()"
   ]
  },
  {
   "cell_type": "code",
   "execution_count": null,
   "metadata": {
    "colab": {},
    "colab_type": "code",
    "id": "Rzhqlg99rLy1",
    "outputId": "854b0e51-38ae-4de8-cc9f-9b05881de514"
   },
   "outputs": [
    {
     "name": "stdout",
     "output_type": "stream",
     "text": [
      "Epoch 1/200\n",
      " - 162s - loss: 1.4254 - accuracy: 0.2662 - val_loss: 1.3981 - val_accuracy: 0.2550\n",
      "Epoch 2/200\n",
      " - 112s - loss: 1.3892 - accuracy: 0.2682 - val_loss: 1.3785 - val_accuracy: 0.2875\n",
      "Epoch 3/200\n",
      " - 70s - loss: 1.3858 - accuracy: 0.2634 - val_loss: 1.4034 - val_accuracy: 0.2525\n",
      "Epoch 4/200\n",
      " - 40s - loss: 1.3851 - accuracy: 0.2615 - val_loss: 1.3841 - val_accuracy: 0.2550\n",
      "Epoch 5/200\n",
      " - 40s - loss: 1.3755 - accuracy: 0.2907 - val_loss: 8.4680 - val_accuracy: 0.2100\n",
      "Epoch 6/200\n",
      " - 40s - loss: 1.3615 - accuracy: 0.3070 - val_loss: 1.3221 - val_accuracy: 0.2825\n",
      "Epoch 7/200\n",
      " - 40s - loss: 1.3599 - accuracy: 0.2960 - val_loss: 1.3444 - val_accuracy: 0.2739\n",
      "Epoch 8/200\n",
      " - 51s - loss: 1.3544 - accuracy: 0.3215 - val_loss: 1.4002 - val_accuracy: 0.2375\n",
      "Epoch 9/200\n",
      " - 45s - loss: 1.3322 - accuracy: 0.3368 - val_loss: 5.0975 - val_accuracy: 0.2350\n",
      "Epoch 10/200\n",
      " - 44s - loss: 1.3013 - accuracy: 0.3553 - val_loss: 1.4414 - val_accuracy: 0.3600\n",
      "Epoch 11/200\n",
      " - 42s - loss: 1.2655 - accuracy: 0.3785 - val_loss: 1.4497 - val_accuracy: 0.2600\n",
      "Epoch 12/200\n",
      " - 39s - loss: 1.2230 - accuracy: 0.3808 - val_loss: 1.3799 - val_accuracy: 0.3650\n",
      "Epoch 13/200\n",
      " - 37s - loss: 1.1935 - accuracy: 0.3968 - val_loss: 1.3093 - val_accuracy: 0.3385\n",
      "Epoch 14/200\n",
      " - 38s - loss: 1.2006 - accuracy: 0.3963 - val_loss: 1.1428 - val_accuracy: 0.4375\n",
      "Epoch 15/200\n",
      " - 53s - loss: 1.1766 - accuracy: 0.4123 - val_loss: 1.6725 - val_accuracy: 0.2350\n",
      "Epoch 16/200\n",
      " - 39s - loss: 1.1706 - accuracy: 0.4268 - val_loss: 1.3576 - val_accuracy: 0.3350\n",
      "Epoch 17/200\n",
      " - 41s - loss: 1.1346 - accuracy: 0.4433 - val_loss: 1.0658 - val_accuracy: 0.4875\n",
      "Epoch 18/200\n",
      " - 40s - loss: 1.1230 - accuracy: 0.4415 - val_loss: 9.5646 - val_accuracy: 0.2500\n",
      "Epoch 19/200\n",
      " - 38s - loss: 1.1189 - accuracy: 0.4473 - val_loss: 1.0057 - val_accuracy: 0.4083\n",
      "Epoch 20/200\n",
      " - 37s - loss: 1.1137 - accuracy: 0.4376 - val_loss: 1.7977 - val_accuracy: 0.2650\n",
      "Epoch 21/200\n",
      " - 37s - loss: 1.0957 - accuracy: 0.4526 - val_loss: 1.1972 - val_accuracy: 0.4700\n",
      "Epoch 22/200\n",
      " - 37s - loss: 1.1094 - accuracy: 0.4510 - val_loss: 1.6763 - val_accuracy: 0.2900\n",
      "Epoch 23/200\n",
      " - 37s - loss: 1.0848 - accuracy: 0.4520 - val_loss: 1.1104 - val_accuracy: 0.4425\n",
      "Epoch 24/200\n",
      " - 37s - loss: 1.0659 - accuracy: 0.4608 - val_loss: 1.1981 - val_accuracy: 0.3825\n",
      "Epoch 25/200\n",
      " - 37s - loss: 1.0802 - accuracy: 0.4436 - val_loss: 0.6814 - val_accuracy: 0.5039\n",
      "Epoch 26/200\n",
      " - 36s - loss: 1.0585 - accuracy: 0.4516 - val_loss: 1.0895 - val_accuracy: 0.3750\n",
      "Epoch 27/200\n",
      " - 36s - loss: 1.0581 - accuracy: 0.4618 - val_loss: 9.9231 - val_accuracy: 0.2550\n",
      "Epoch 28/200\n",
      " - 36s - loss: 1.0545 - accuracy: 0.4782 - val_loss: 1.5187 - val_accuracy: 0.2975\n",
      "Epoch 29/200\n",
      " - 36s - loss: 1.0526 - accuracy: 0.4731 - val_loss: 1.0057 - val_accuracy: 0.4125\n",
      "Epoch 30/200\n",
      " - 36s - loss: 0.9877 - accuracy: 0.4967 - val_loss: 1.0619 - val_accuracy: 0.4475\n",
      "Epoch 31/200\n",
      " - 36s - loss: 0.9847 - accuracy: 0.5085 - val_loss: 3.6236 - val_accuracy: 0.2225\n",
      "Epoch 32/200\n",
      " - 36s - loss: 0.9165 - accuracy: 0.5444 - val_loss: 1.0129 - val_accuracy: 0.5013\n",
      "Epoch 33/200\n",
      " - 36s - loss: 0.9148 - accuracy: 0.5537 - val_loss: 2.2694 - val_accuracy: 0.3075\n",
      "Epoch 34/200\n",
      " - 41s - loss: 0.8870 - accuracy: 0.5589 - val_loss: 1.2014 - val_accuracy: 0.4075\n",
      "Epoch 35/200\n",
      " - 52s - loss: 0.8776 - accuracy: 0.5580 - val_loss: 23.3193 - val_accuracy: 0.2550\n",
      "Epoch 36/200\n",
      " - 42s - loss: 0.8534 - accuracy: 0.5755 - val_loss: 2.2177 - val_accuracy: 0.2725\n",
      "Epoch 37/200\n",
      " - 40s - loss: 0.8340 - accuracy: 0.5734 - val_loss: 1.4589 - val_accuracy: 0.3700\n",
      "Epoch 38/200\n",
      " - 38s - loss: 0.8185 - accuracy: 0.5732 - val_loss: 26.7979 - val_accuracy: 0.2403\n",
      "Epoch 39/200\n",
      " - 37s - loss: 0.7928 - accuracy: 0.5925 - val_loss: 24.3966 - val_accuracy: 0.2325\n",
      "Epoch 40/200\n",
      " - 38s - loss: 0.7969 - accuracy: 0.5867 - val_loss: 19.8526 - val_accuracy: 0.2050\n",
      "Epoch 41/200\n",
      " - 38s - loss: 0.7457 - accuracy: 0.6162 - val_loss: 1.4121 - val_accuracy: 0.3925\n",
      "Epoch 42/200\n",
      " - 42s - loss: 0.7762 - accuracy: 0.6100 - val_loss: 0.7581 - val_accuracy: 0.6050\n",
      "Epoch 43/200\n",
      " - 62s - loss: 0.7361 - accuracy: 0.6102 - val_loss: 0.5777 - val_accuracy: 0.6600\n",
      "Epoch 44/200\n",
      " - 150s - loss: 0.7709 - accuracy: 0.6275 - val_loss: 0.8303 - val_accuracy: 0.6098\n",
      "Epoch 45/200\n",
      " - 136s - loss: 0.7247 - accuracy: 0.6342 - val_loss: 1.0677 - val_accuracy: 0.5775\n",
      "Epoch 46/200\n",
      " - 100s - loss: 0.7520 - accuracy: 0.6285 - val_loss: 0.7639 - val_accuracy: 0.5150\n",
      "Epoch 47/200\n",
      " - 103s - loss: 0.7196 - accuracy: 0.6317 - val_loss: 1.6914 - val_accuracy: 0.4900\n",
      "Epoch 48/200\n",
      " - 100s - loss: 0.7166 - accuracy: 0.6310 - val_loss: 10.4853 - val_accuracy: 0.3550\n",
      "Epoch 49/200\n",
      " - 125s - loss: 0.6764 - accuracy: 0.6405 - val_loss: 1.9782 - val_accuracy: 0.4475\n",
      "Epoch 50/200\n",
      " - 112s - loss: 0.6713 - accuracy: 0.6565 - val_loss: 0.9656 - val_accuracy: 0.3902\n",
      "Epoch 51/200\n",
      " - 97s - loss: 0.6706 - accuracy: 0.6472 - val_loss: 0.9769 - val_accuracy: 0.6850\n",
      "Epoch 52/200\n",
      " - 110s - loss: 0.6535 - accuracy: 0.6485 - val_loss: 1.0438 - val_accuracy: 0.4475\n",
      "Epoch 53/200\n",
      " - 98s - loss: 0.6341 - accuracy: 0.6575 - val_loss: 0.7864 - val_accuracy: 0.5875\n",
      "Epoch 54/200\n",
      " - 105s - loss: 0.6409 - accuracy: 0.6525 - val_loss: 1.1195 - val_accuracy: 0.3875\n",
      "Epoch 55/200\n",
      " - 91s - loss: 0.6246 - accuracy: 0.6715 - val_loss: 0.5975 - val_accuracy: 0.6000\n",
      "Epoch 56/200\n",
      " - 72s - loss: 0.6267 - accuracy: 0.6607 - val_loss: 0.7307 - val_accuracy: 0.5975\n",
      "Epoch 57/200\n",
      " - 103s - loss: 0.6247 - accuracy: 0.6762 - val_loss: 1.3215 - val_accuracy: 0.6331\n",
      "Epoch 58/200\n",
      " - 101s - loss: 0.5977 - accuracy: 0.6758 - val_loss: 0.4632 - val_accuracy: 0.6925\n",
      "Epoch 59/200\n",
      " - 107s - loss: 0.6256 - accuracy: 0.6607 - val_loss: 0.6902 - val_accuracy: 0.6325\n",
      "Epoch 60/200\n",
      " - 89s - loss: 0.6125 - accuracy: 0.6720 - val_loss: 2.0429 - val_accuracy: 0.6075\n",
      "Epoch 61/200\n",
      " - 42s - loss: 0.6000 - accuracy: 0.6745 - val_loss: 0.9632 - val_accuracy: 0.5400\n",
      "Epoch 62/200\n",
      " - 43s - loss: 0.5986 - accuracy: 0.6710 - val_loss: 0.9000 - val_accuracy: 0.4325\n",
      "Epoch 63/200\n",
      " - 38s - loss: 0.5969 - accuracy: 0.6700 - val_loss: 1.4532 - val_accuracy: 0.4289\n",
      "Epoch 64/200\n",
      " - 36s - loss: 0.5712 - accuracy: 0.6867 - val_loss: 0.6786 - val_accuracy: 0.6250\n",
      "Epoch 65/200\n",
      " - 37s - loss: 0.5669 - accuracy: 0.6835 - val_loss: 1.5316 - val_accuracy: 0.5700\n",
      "Epoch 66/200\n",
      " - 40s - loss: 0.5812 - accuracy: 0.6870 - val_loss: 1.4555 - val_accuracy: 0.5225\n",
      "Epoch 67/200\n",
      " - 41s - loss: 0.5761 - accuracy: 0.6837 - val_loss: 1.8802 - val_accuracy: 0.4300\n",
      "Epoch 68/200\n",
      " - 41s - loss: 0.5661 - accuracy: 0.6900 - val_loss: 0.8245 - val_accuracy: 0.6475\n",
      "Epoch 69/200\n",
      " - 37s - loss: 0.5771 - accuracy: 0.6820 - val_loss: 1.1181 - val_accuracy: 0.5271\n",
      "Epoch 70/200\n",
      " - 38s - loss: 0.5812 - accuracy: 0.6823 - val_loss: 0.6187 - val_accuracy: 0.6925\n",
      "Epoch 71/200\n",
      " - 39s - loss: 0.5761 - accuracy: 0.6890 - val_loss: 2.4688 - val_accuracy: 0.3825\n",
      "Epoch 72/200\n",
      " - 39s - loss: 0.5567 - accuracy: 0.6920 - val_loss: 1.8317 - val_accuracy: 0.5575\n",
      "Epoch 73/200\n",
      " - 39s - loss: 0.5642 - accuracy: 0.7007 - val_loss: 1.5409 - val_accuracy: 0.4900\n",
      "Epoch 74/200\n",
      " - 39s - loss: 0.5716 - accuracy: 0.6830 - val_loss: 0.6976 - val_accuracy: 0.6200\n",
      "Epoch 75/200\n",
      " - 42s - loss: 0.5707 - accuracy: 0.6963 - val_loss: 0.5081 - val_accuracy: 0.6512\n",
      "Epoch 76/200\n",
      " - 42s - loss: 0.5560 - accuracy: 0.6883 - val_loss: 1.4915 - val_accuracy: 0.5850\n",
      "Epoch 77/200\n",
      " - 43s - loss: 0.5598 - accuracy: 0.6948 - val_loss: 0.4615 - val_accuracy: 0.6825\n",
      "Epoch 78/200\n",
      " - 38s - loss: 0.5383 - accuracy: 0.6952 - val_loss: 0.4359 - val_accuracy: 0.6275\n",
      "Epoch 79/200\n",
      " - 38s - loss: 0.5640 - accuracy: 0.6968 - val_loss: 0.6152 - val_accuracy: 0.6250\n",
      "Epoch 80/200\n",
      " - 38s - loss: 0.5361 - accuracy: 0.7025 - val_loss: 1.2409 - val_accuracy: 0.6775\n",
      "Epoch 81/200\n",
      " - 39s - loss: 0.5631 - accuracy: 0.6903 - val_loss: 0.6356 - val_accuracy: 0.6700\n",
      "Epoch 82/200\n",
      " - 38s - loss: 0.5495 - accuracy: 0.6915 - val_loss: 1.1505 - val_accuracy: 0.4884\n",
      "Epoch 83/200\n",
      " - 39s - loss: 0.5531 - accuracy: 0.6877 - val_loss: 1.1584 - val_accuracy: 0.5200\n",
      "Epoch 84/200\n",
      " - 37s - loss: 0.5740 - accuracy: 0.6910 - val_loss: 1.8986 - val_accuracy: 0.4675\n",
      "Epoch 85/200\n",
      " - 39s - loss: 0.5389 - accuracy: 0.6980 - val_loss: 0.4858 - val_accuracy: 0.6050\n",
      "Epoch 86/200\n",
      " - 40s - loss: 0.5319 - accuracy: 0.6855 - val_loss: 0.8836 - val_accuracy: 0.6375\n"
     ]
    },
    {
     "name": "stdout",
     "output_type": "stream",
     "text": [
      "Epoch 87/200\n",
      " - 42s - loss: 0.5285 - accuracy: 0.7025 - val_loss: 2.1026 - val_accuracy: 0.6375\n",
      "Epoch 88/200\n",
      " - 43s - loss: 0.5393 - accuracy: 0.6913 - val_loss: 0.7710 - val_accuracy: 0.6951\n",
      "Epoch 89/200\n",
      " - 41s - loss: 0.5347 - accuracy: 0.6967 - val_loss: 1.0530 - val_accuracy: 0.7000\n",
      "Epoch 90/200\n",
      " - 37s - loss: 0.5292 - accuracy: 0.6973 - val_loss: 0.8769 - val_accuracy: 0.6250\n",
      "Epoch 91/200\n",
      " - 40s - loss: 0.5234 - accuracy: 0.7013 - val_loss: 0.7009 - val_accuracy: 0.5475\n",
      "Epoch 92/200\n",
      " - 42s - loss: 0.5362 - accuracy: 0.6950 - val_loss: 1.6465 - val_accuracy: 0.5150\n",
      "Epoch 93/200\n",
      " - 39s - loss: 0.5493 - accuracy: 0.6917 - val_loss: 0.6392 - val_accuracy: 0.6200\n",
      "Epoch 94/200\n",
      " - 38s - loss: 0.5341 - accuracy: 0.6898 - val_loss: 1.5837 - val_accuracy: 0.5297\n",
      "Epoch 95/200\n",
      " - 39s - loss: 0.5532 - accuracy: 0.6973 - val_loss: 0.8925 - val_accuracy: 0.6700\n",
      "Epoch 96/200\n",
      " - 43s - loss: 0.5361 - accuracy: 0.7033 - val_loss: 0.4295 - val_accuracy: 0.6375\n",
      "Epoch 97/200\n",
      " - 42s - loss: 0.5117 - accuracy: 0.7010 - val_loss: 3.4868 - val_accuracy: 0.4900\n",
      "Epoch 98/200\n",
      " - 42s - loss: 0.5325 - accuracy: 0.6973 - val_loss: 0.6095 - val_accuracy: 0.6400\n",
      "Epoch 99/200\n",
      " - 41s - loss: 0.5224 - accuracy: 0.7028 - val_loss: 1.8760 - val_accuracy: 0.5025\n",
      "Epoch 100/200\n",
      " - 42s - loss: 0.5152 - accuracy: 0.6945 - val_loss: 0.5526 - val_accuracy: 0.6822\n",
      "Epoch 101/200\n",
      " - 44s - loss: 0.5420 - accuracy: 0.7057 - val_loss: 0.5464 - val_accuracy: 0.5425\n",
      "Epoch 102/200\n",
      " - 45s - loss: 0.5243 - accuracy: 0.7085 - val_loss: 0.4292 - val_accuracy: 0.6450\n",
      "Epoch 103/200\n",
      " - 40s - loss: 0.5233 - accuracy: 0.7117 - val_loss: 1.0993 - val_accuracy: 0.6150\n",
      "Epoch 104/200\n",
      " - 41s - loss: 0.5206 - accuracy: 0.7117 - val_loss: 1.0088 - val_accuracy: 0.6400\n",
      "Epoch 105/200\n",
      " - 39s - loss: 0.5145 - accuracy: 0.6993 - val_loss: 0.9382 - val_accuracy: 0.6525\n",
      "Epoch 106/200\n",
      " - 42s - loss: 0.5273 - accuracy: 0.7013 - val_loss: 0.6331 - val_accuracy: 0.6650\n",
      "Epoch 107/200\n",
      " - 42s - loss: 0.5066 - accuracy: 0.7090 - val_loss: 0.4480 - val_accuracy: 0.5995\n",
      "Epoch 108/200\n",
      " - 43s - loss: 0.4972 - accuracy: 0.7095 - val_loss: 0.7211 - val_accuracy: 0.7300\n",
      "Epoch 109/200\n",
      " - 42s - loss: 0.5152 - accuracy: 0.7055 - val_loss: 0.9565 - val_accuracy: 0.6900\n",
      "Epoch 110/200\n",
      " - 36s - loss: 0.4997 - accuracy: 0.7168 - val_loss: 1.4179 - val_accuracy: 0.4850\n",
      "Epoch 111/200\n",
      " - 38s - loss: 0.5068 - accuracy: 0.7130 - val_loss: 1.0687 - val_accuracy: 0.6525\n",
      "Epoch 112/200\n",
      " - 42s - loss: 0.5253 - accuracy: 0.6923 - val_loss: 0.9807 - val_accuracy: 0.6300\n",
      "Epoch 113/200\n",
      " - 38s - loss: 0.4911 - accuracy: 0.7060 - val_loss: 1.4625 - val_accuracy: 0.6615\n",
      "Epoch 114/200\n",
      " - 40s - loss: 0.4928 - accuracy: 0.7110 - val_loss: 1.9843 - val_accuracy: 0.5525\n",
      "Epoch 115/200\n",
      " - 38s - loss: 0.5111 - accuracy: 0.6928 - val_loss: 1.0680 - val_accuracy: 0.5875\n",
      "Epoch 116/200\n",
      " - 36s - loss: 0.5170 - accuracy: 0.7122 - val_loss: 0.8619 - val_accuracy: 0.5700\n",
      "Epoch 117/200\n",
      " - 39s - loss: 0.4986 - accuracy: 0.7122 - val_loss: 1.0108 - val_accuracy: 0.5925\n",
      "Epoch 118/200\n",
      " - 41s - loss: 0.4719 - accuracy: 0.7253 - val_loss: 0.7205 - val_accuracy: 0.5625\n",
      "Epoch 119/200\n",
      " - 41s - loss: 0.5076 - accuracy: 0.7092 - val_loss: 0.5583 - val_accuracy: 0.5840\n",
      "Epoch 120/200\n",
      " - 39s - loss: 0.4985 - accuracy: 0.7025 - val_loss: 0.8084 - val_accuracy: 0.6975\n",
      "Epoch 121/200\n",
      " - 42s - loss: 0.4863 - accuracy: 0.6990 - val_loss: 0.4918 - val_accuracy: 0.6275\n",
      "Epoch 122/200\n",
      " - 42s - loss: 0.4982 - accuracy: 0.7113 - val_loss: 0.8020 - val_accuracy: 0.6925\n",
      "Epoch 123/200\n",
      " - 41s - loss: 0.4931 - accuracy: 0.7190 - val_loss: 1.3181 - val_accuracy: 0.6825\n",
      "Epoch 124/200\n",
      " - 44s - loss: 0.4934 - accuracy: 0.7030 - val_loss: 1.6122 - val_accuracy: 0.5450\n",
      "Epoch 125/200\n",
      " - 41s - loss: 0.4944 - accuracy: 0.7228 - val_loss: 0.8833 - val_accuracy: 0.6176\n",
      "Epoch 126/200\n",
      " - 43s - loss: 0.4864 - accuracy: 0.7145 - val_loss: 1.1956 - val_accuracy: 0.7150\n",
      "Epoch 127/200\n",
      " - 42s - loss: 0.4962 - accuracy: 0.7140 - val_loss: 1.6373 - val_accuracy: 0.5600\n",
      "Epoch 128/200\n",
      " - 40s - loss: 0.5137 - accuracy: 0.7100 - val_loss: 1.8463 - val_accuracy: 0.6300\n",
      "Epoch 129/200\n",
      " - 39s - loss: 0.4929 - accuracy: 0.7120 - val_loss: 0.7378 - val_accuracy: 0.5825\n",
      "Epoch 130/200\n",
      " - 39s - loss: 0.4803 - accuracy: 0.7085 - val_loss: 1.1854 - val_accuracy: 0.5825\n",
      "Epoch 131/200\n",
      " - 39s - loss: 0.4831 - accuracy: 0.7247 - val_loss: 0.5692 - val_accuracy: 0.6975\n",
      "Epoch 132/200\n",
      " - 39s - loss: 0.4758 - accuracy: 0.7278 - val_loss: 0.9263 - val_accuracy: 0.6253\n",
      "Epoch 133/200\n",
      " - 40s - loss: 0.5038 - accuracy: 0.7195 - val_loss: 0.4979 - val_accuracy: 0.6450\n",
      "Epoch 134/200\n",
      " - 38s - loss: 0.4804 - accuracy: 0.7188 - val_loss: 1.4128 - val_accuracy: 0.7025\n",
      "Epoch 135/200\n",
      " - 36s - loss: 0.4976 - accuracy: 0.7040 - val_loss: 0.6398 - val_accuracy: 0.6475\n",
      "Epoch 136/200\n",
      " - 36s - loss: 0.4822 - accuracy: 0.7138 - val_loss: 0.6853 - val_accuracy: 0.5900\n",
      "Epoch 137/200\n",
      " - 36s - loss: 0.4900 - accuracy: 0.7057 - val_loss: 2.1916 - val_accuracy: 0.6325\n",
      "Epoch 138/200\n",
      " - 41s - loss: 0.4777 - accuracy: 0.7160 - val_loss: 0.6340 - val_accuracy: 0.7028\n",
      "Epoch 139/200\n",
      " - 40s - loss: 0.4919 - accuracy: 0.7205 - val_loss: 1.7402 - val_accuracy: 0.5750\n",
      "Epoch 140/200\n",
      " - 40s - loss: 0.4942 - accuracy: 0.7170 - val_loss: 0.4921 - val_accuracy: 0.6950\n",
      "Epoch 141/200\n",
      " - 38s - loss: 0.4857 - accuracy: 0.7190 - val_loss: 2.0787 - val_accuracy: 0.6750\n",
      "Epoch 142/200\n",
      " - 36s - loss: 0.4870 - accuracy: 0.7210 - val_loss: 0.8301 - val_accuracy: 0.6250\n",
      "Epoch 143/200\n",
      " - 36s - loss: 0.4523 - accuracy: 0.7188 - val_loss: 0.6811 - val_accuracy: 0.7150\n",
      "Epoch 144/200\n",
      " - 36s - loss: 0.4880 - accuracy: 0.7092 - val_loss: 1.3371 - val_accuracy: 0.5349\n",
      "Epoch 145/200\n",
      " - 36s - loss: 0.4996 - accuracy: 0.7203 - val_loss: 1.2356 - val_accuracy: 0.6100\n",
      "Epoch 146/200\n",
      " - 36s - loss: 0.4580 - accuracy: 0.7180 - val_loss: 1.6650 - val_accuracy: 0.5950\n",
      "Epoch 147/200\n",
      " - 36s - loss: 0.4882 - accuracy: 0.7222 - val_loss: 0.5051 - val_accuracy: 0.6750\n",
      "Epoch 148/200\n",
      " - 36s - loss: 0.4771 - accuracy: 0.7175 - val_loss: 0.8342 - val_accuracy: 0.6175\n",
      "Epoch 149/200\n",
      " - 36s - loss: 0.4827 - accuracy: 0.7190 - val_loss: 1.7436 - val_accuracy: 0.6400\n",
      "Epoch 150/200\n",
      " - 37s - loss: 0.4587 - accuracy: 0.7270 - val_loss: 4.2744 - val_accuracy: 0.4961\n",
      "Epoch 151/200\n",
      " - 37s - loss: 0.4962 - accuracy: 0.7132 - val_loss: 0.5104 - val_accuracy: 0.7025\n",
      "Epoch 152/200\n",
      " - 36s - loss: 0.4814 - accuracy: 0.7333 - val_loss: 0.9336 - val_accuracy: 0.6725\n",
      "Epoch 153/200\n",
      " - 37s - loss: 0.4891 - accuracy: 0.7178 - val_loss: 1.1946 - val_accuracy: 0.4225\n",
      "Epoch 154/200\n",
      " - 36s - loss: 0.4824 - accuracy: 0.7128 - val_loss: 2.1941 - val_accuracy: 0.5900\n",
      "Epoch 155/200\n",
      " - 36s - loss: 0.4884 - accuracy: 0.7246 - val_loss: 0.9366 - val_accuracy: 0.6650\n",
      "Epoch 156/200\n",
      " - 36s - loss: 0.4825 - accuracy: 0.7180 - val_loss: 0.9653 - val_accuracy: 0.6500\n",
      "Epoch 157/200\n",
      " - 36s - loss: 0.4611 - accuracy: 0.7225 - val_loss: 1.7433 - val_accuracy: 0.6460\n",
      "Epoch 158/200\n",
      " - 36s - loss: 0.4550 - accuracy: 0.7270 - val_loss: 2.6272 - val_accuracy: 0.6300\n",
      "Epoch 159/200\n",
      " - 36s - loss: 0.4740 - accuracy: 0.7280 - val_loss: 0.5386 - val_accuracy: 0.5950\n",
      "Epoch 160/200\n",
      " - 36s - loss: 0.4658 - accuracy: 0.7250 - val_loss: 0.6358 - val_accuracy: 0.6475\n",
      "Epoch 161/200\n",
      " - 36s - loss: 0.4755 - accuracy: 0.7175 - val_loss: 1.7635 - val_accuracy: 0.6275\n",
      "Epoch 162/200\n",
      " - 37s - loss: 0.4814 - accuracy: 0.7173 - val_loss: 0.5890 - val_accuracy: 0.6625\n",
      "Epoch 163/200\n",
      " - 36s - loss: 0.4544 - accuracy: 0.7283 - val_loss: 0.8253 - val_accuracy: 0.6305\n",
      "Epoch 164/200\n",
      " - 36s - loss: 0.4672 - accuracy: 0.7300 - val_loss: 1.9288 - val_accuracy: 0.6000\n",
      "Epoch 165/200\n",
      " - 36s - loss: 0.4815 - accuracy: 0.7197 - val_loss: 0.3417 - val_accuracy: 0.7325\n",
      "Epoch 166/200\n",
      " - 36s - loss: 0.4578 - accuracy: 0.7163 - val_loss: 1.9614 - val_accuracy: 0.4500\n",
      "Epoch 167/200\n",
      " - 36s - loss: 0.4645 - accuracy: 0.7157 - val_loss: 0.7139 - val_accuracy: 0.7000\n",
      "Epoch 168/200\n",
      " - 36s - loss: 0.4634 - accuracy: 0.7200 - val_loss: 0.7694 - val_accuracy: 0.5800\n",
      "Epoch 169/200\n",
      " - 37s - loss: 0.4848 - accuracy: 0.7165 - val_loss: 2.5119 - val_accuracy: 0.5917\n",
      "Epoch 170/200\n",
      " - 39s - loss: 0.4761 - accuracy: 0.7245 - val_loss: 0.8324 - val_accuracy: 0.6700\n",
      "Epoch 171/200\n",
      " - 38s - loss: 0.4747 - accuracy: 0.7133 - val_loss: 0.3171 - val_accuracy: 0.7200\n"
     ]
    },
    {
     "name": "stdout",
     "output_type": "stream",
     "text": [
      "Epoch 172/200\n",
      " - 39s - loss: 0.4742 - accuracy: 0.7258 - val_loss: 1.8100 - val_accuracy: 0.6250\n",
      "Epoch 173/200\n",
      " - 41s - loss: 0.4500 - accuracy: 0.7298 - val_loss: 0.3559 - val_accuracy: 0.6975\n",
      "Epoch 174/200\n",
      " - 36s - loss: 0.4595 - accuracy: 0.7240 - val_loss: 1.0622 - val_accuracy: 0.6275\n",
      "Epoch 175/200\n",
      " - 36s - loss: 0.4567 - accuracy: 0.7228 - val_loss: 0.3146 - val_accuracy: 0.6331\n",
      "Epoch 176/200\n",
      " - 37s - loss: 0.4458 - accuracy: 0.7228 - val_loss: 0.6641 - val_accuracy: 0.6375\n",
      "Epoch 177/200\n",
      " - 36s - loss: 0.4754 - accuracy: 0.7103 - val_loss: 1.1635 - val_accuracy: 0.6800\n",
      "Epoch 178/200\n",
      " - 36s - loss: 0.4680 - accuracy: 0.7218 - val_loss: 3.0719 - val_accuracy: 0.5050\n",
      "Epoch 179/200\n",
      " - 36s - loss: 0.4644 - accuracy: 0.7248 - val_loss: 0.2797 - val_accuracy: 0.7025\n",
      "Epoch 180/200\n",
      " - 36s - loss: 0.4613 - accuracy: 0.7138 - val_loss: 1.7124 - val_accuracy: 0.5950\n",
      "Epoch 181/200\n",
      " - 36s - loss: 0.4658 - accuracy: 0.7215 - val_loss: 0.3146 - val_accuracy: 0.7075\n",
      "Epoch 182/200\n",
      " - 36s - loss: 0.4571 - accuracy: 0.7188 - val_loss: 0.8377 - val_accuracy: 0.6718\n",
      "Epoch 183/200\n",
      " - 37s - loss: 0.4714 - accuracy: 0.7170 - val_loss: 1.0493 - val_accuracy: 0.6350\n",
      "Epoch 184/200\n",
      " - 36s - loss: 0.4545 - accuracy: 0.7225 - val_loss: 1.9885 - val_accuracy: 0.5850\n",
      "Epoch 185/200\n",
      " - 36s - loss: 0.4685 - accuracy: 0.7300 - val_loss: 0.7952 - val_accuracy: 0.6275\n",
      "Epoch 186/200\n",
      " - 41s - loss: 0.4770 - accuracy: 0.7075 - val_loss: 0.7404 - val_accuracy: 0.6675\n",
      "Epoch 187/200\n",
      " - 36s - loss: 0.4492 - accuracy: 0.7338 - val_loss: 3.3900 - val_accuracy: 0.4925\n",
      "Epoch 188/200\n",
      " - 39s - loss: 0.4603 - accuracy: 0.7218 - val_loss: 0.6532 - val_accuracy: 0.7054\n",
      "Epoch 189/200\n",
      " - 50s - loss: 0.4799 - accuracy: 0.7122 - val_loss: 1.6569 - val_accuracy: 0.6600\n",
      "Epoch 190/200\n",
      " - 48s - loss: 0.4931 - accuracy: 0.7098 - val_loss: 1.3724 - val_accuracy: 0.5075\n",
      "Epoch 191/200\n",
      " - 43s - loss: 0.4549 - accuracy: 0.7237 - val_loss: 1.2934 - val_accuracy: 0.6925\n",
      "Epoch 192/200\n",
      " - 43s - loss: 0.4711 - accuracy: 0.7312 - val_loss: 0.4611 - val_accuracy: 0.6575\n",
      "Epoch 193/200\n",
      " - 42s - loss: 0.4533 - accuracy: 0.7253 - val_loss: 1.1563 - val_accuracy: 0.6225\n",
      "Epoch 194/200\n",
      " - 43s - loss: 0.4813 - accuracy: 0.7195 - val_loss: 0.6780 - val_accuracy: 0.6718\n",
      "Epoch 195/200\n",
      " - 43s - loss: 0.4619 - accuracy: 0.7133 - val_loss: 0.5770 - val_accuracy: 0.6375\n",
      "Epoch 196/200\n",
      " - 43s - loss: 0.4580 - accuracy: 0.7220 - val_loss: 0.3883 - val_accuracy: 0.6400\n",
      "Epoch 197/200\n",
      " - 42s - loss: 0.4622 - accuracy: 0.7297 - val_loss: 0.8752 - val_accuracy: 0.6550\n",
      "Epoch 198/200\n",
      " - 43s - loss: 0.4532 - accuracy: 0.7205 - val_loss: 1.5251 - val_accuracy: 0.6150\n",
      "Epoch 199/200\n",
      " - 42s - loss: 0.4540 - accuracy: 0.7218 - val_loss: 0.7350 - val_accuracy: 0.6775\n",
      "Epoch 200/200\n",
      " - 42s - loss: 0.4606 - accuracy: 0.7253 - val_loss: 0.4055 - val_accuracy: 0.6899\n"
     ]
    },
    {
     "data": {
      "text/plain": [
       "<keras.callbacks.callbacks.History at 0x1c1a06dbf88>"
      ]
     },
     "execution_count": 72,
     "metadata": {
      "tags": []
     },
     "output_type": "execute_result"
    }
   ],
   "source": [
    "#Training the final model\n",
    "final_model.fit_generator(train_generator, \n",
    "                    steps_per_epoch=200,\n",
    "                    validation_data=validation_generator,\n",
    "                    validation_steps=20,\n",
    "                    epochs=200, verbose=2)"
   ]
  },
  {
   "cell_type": "code",
   "execution_count": null,
   "metadata": {
    "colab": {},
    "colab_type": "code",
    "id": "VPkZbj_BrLy5",
    "outputId": "7281b3db-de12-4cc9-d6df-d0bb2e5076a0"
   },
   "outputs": [
    {
     "data": {
      "text/html": [
       "<div>\n",
       "<style scoped>\n",
       "    .dataframe tbody tr th:only-of-type {\n",
       "        vertical-align: middle;\n",
       "    }\n",
       "\n",
       "    .dataframe tbody tr th {\n",
       "        vertical-align: top;\n",
       "    }\n",
       "\n",
       "    .dataframe thead th {\n",
       "        text-align: right;\n",
       "    }\n",
       "</style>\n",
       "<table border=\"1\" class=\"dataframe\">\n",
       "  <thead>\n",
       "    <tr style=\"text-align: right;\">\n",
       "      <th></th>\n",
       "      <th>val_loss</th>\n",
       "      <th>val_accuracy</th>\n",
       "      <th>loss</th>\n",
       "      <th>accuracy</th>\n",
       "    </tr>\n",
       "  </thead>\n",
       "  <tbody>\n",
       "    <tr>\n",
       "      <th>0</th>\n",
       "      <td>1.398066</td>\n",
       "      <td>0.2550</td>\n",
       "      <td>1.425437</td>\n",
       "      <td>0.266200</td>\n",
       "    </tr>\n",
       "    <tr>\n",
       "      <th>1</th>\n",
       "      <td>1.378461</td>\n",
       "      <td>0.2875</td>\n",
       "      <td>1.389204</td>\n",
       "      <td>0.268250</td>\n",
       "    </tr>\n",
       "    <tr>\n",
       "      <th>2</th>\n",
       "      <td>1.403396</td>\n",
       "      <td>0.2525</td>\n",
       "      <td>1.385813</td>\n",
       "      <td>0.263448</td>\n",
       "    </tr>\n",
       "    <tr>\n",
       "      <th>3</th>\n",
       "      <td>1.384069</td>\n",
       "      <td>0.2550</td>\n",
       "      <td>1.385115</td>\n",
       "      <td>0.261500</td>\n",
       "    </tr>\n",
       "    <tr>\n",
       "      <th>4</th>\n",
       "      <td>8.468012</td>\n",
       "      <td>0.2100</td>\n",
       "      <td>1.375517</td>\n",
       "      <td>0.290750</td>\n",
       "    </tr>\n",
       "  </tbody>\n",
       "</table>\n",
       "</div>"
      ],
      "text/plain": [
       "   val_loss  val_accuracy      loss  accuracy\n",
       "0  1.398066        0.2550  1.425437  0.266200\n",
       "1  1.378461        0.2875  1.389204  0.268250\n",
       "2  1.403396        0.2525  1.385813  0.263448\n",
       "3  1.384069        0.2550  1.385115  0.261500\n",
       "4  8.468012        0.2100  1.375517  0.290750"
      ]
     },
     "execution_count": 74,
     "metadata": {
      "tags": []
     },
     "output_type": "execute_result"
    }
   ],
   "source": [
    "f_model_loss = pd.DataFrame(final_model.history.history)\n",
    "f_model_loss.head()"
   ]
  },
  {
   "cell_type": "code",
   "execution_count": null,
   "metadata": {
    "colab": {},
    "colab_type": "code",
    "id": "nQrq275YrLy7",
    "outputId": "f195e15e-9c5e-46e2-c4c0-8462b1905472"
   },
   "outputs": [
    {
     "data": {
      "text/plain": [
       "<matplotlib.axes._subplots.AxesSubplot at 0x1c19dfa3648>"
      ]
     },
     "execution_count": 75,
     "metadata": {
      "tags": []
     },
     "output_type": "execute_result"
    },
    {
     "data": {
      "image/png": "[encoded data removed]",
      "text/plain": [
       "<Figure size 432x288 with 1 Axes>"
      ]
     },
     "metadata": {
      "needs_background": "light",
      "tags": []
     },
     "output_type": "display_data"
    }
   ],
   "source": [
    "f_model_loss[['accuracy','val_accuracy']].plot()"
   ]
  },
  {
   "cell_type": "code",
   "execution_count": null,
   "metadata": {
    "colab": {},
    "colab_type": "code",
    "id": "kRjUqIVyrLy-",
    "outputId": "c83cd84c-7cd3-41c3-d477-9b4b65cc5061"
   },
   "outputs": [
    {
     "data": {
      "text/plain": [
       "<matplotlib.axes._subplots.AxesSubplot at 0x1c1f42687c8>"
      ]
     },
     "execution_count": 76,
     "metadata": {
      "tags": []
     },
     "output_type": "execute_result"
    },
    {
     "data": {
      "image/png": "[encoded data removed]",
      "text/plain": [
       "<Figure size 432x288 with 1 Axes>"
      ]
     },
     "metadata": {
      "needs_background": "light",
      "tags": []
     },
     "output_type": "display_data"
    }
   ],
   "source": [
    "f_model_loss[['loss','val_loss']].plot()"
   ]
  },
  {
   "cell_type": "code",
   "execution_count": null,
   "metadata": {
    "colab": {},
    "colab_type": "code",
    "id": "0CQ4mqyurLzA"
   },
   "outputs": [],
   "source": [
    "final_model.save('first_blood_cell_classifier.h5')"
   ]
  },
  {
   "cell_type": "code",
   "execution_count": null,
   "metadata": {
    "colab": {},
    "colab_type": "code",
    "id": "4NH-epWbrLzC"
   },
   "outputs": [],
   "source": [
    "first_predictions = final_model.predict_generator(testing_generator)"
   ]
  },
  {
   "cell_type": "code",
   "execution_count": null,
   "metadata": {
    "colab": {},
    "colab_type": "code",
    "id": "4MutCkccrLzH",
    "outputId": "b2131874-b63b-4172-b97e-a1796f7998c3"
   },
   "outputs": [
    {
     "data": {
      "text/plain": [
       "array([0, 0, 0, 3, 0, 0, 0, 1, 2, 0, 1, 0, 0, 2, 2, 2, 1, 2, 2, 3, 2, 3,\n",
       "       0, 2, 0, 0, 3, 2, 0, 0, 2, 1, 0, 0, 0, 0, 2, 2, 0, 2, 0, 0, 1, 1,\n",
       "       0, 3, 2, 1, 0, 2, 0, 0, 0, 0, 0, 0, 2, 2, 0, 2, 0, 0, 0, 2, 2, 2,\n",
       "       0, 1, 2, 0, 3], dtype=int64)"
      ]
     },
     "execution_count": 100,
     "metadata": {
      "tags": []
     },
     "output_type": "execute_result"
    }
   ],
   "source": [
    "first_predictions.argmax(axis=1)"
   ]
  },
  {
   "cell_type": "code",
   "execution_count": null,
   "metadata": {
    "colab": {},
    "colab_type": "code",
    "id": "z5byz5jCrLzL",
    "outputId": "e34bb4d2-b5ba-47b0-b0cb-07d58148b57d"
   },
   "outputs": [
    {
     "data": {
      "text/plain": [
       "array([0, 0, 0, 0, 0, 0, 0, 0, 0, 0, 0, 0, 0, 1, 1, 1, 1, 1, 1, 2, 2, 2,\n",
       "       2, 3, 3, 3, 3, 3, 3, 3, 3, 3, 3, 3, 3, 3, 3, 3, 3, 3, 3, 3, 3, 3,\n",
       "       3, 3, 3, 3, 3, 3, 3, 3, 3, 3, 3, 3, 3, 3, 3, 3, 3, 3, 3, 3, 3, 3,\n",
       "       3, 3, 3, 3, 3])"
      ]
     },
     "execution_count": 101,
     "metadata": {
      "tags": []
     },
     "output_type": "execute_result"
    }
   ],
   "source": [
    "testing_generator.classes"
   ]
  },
  {
   "cell_type": "code",
   "execution_count": null,
   "metadata": {
    "colab": {},
    "colab_type": "code",
    "id": "FsLNh7iYrLzO",
    "outputId": "0e974765-d77e-4bb2-d94d-b211f6857961"
   },
   "outputs": [
    {
     "name": "stdout",
     "output_type": "stream",
     "text": [
      "              precision    recall  f1-score   support\n",
      "\n",
      "           0       0.26      0.69      0.37        13\n",
      "           1       0.12      0.17      0.14         6\n",
      "           2       0.05      0.25      0.08         4\n",
      "           3       0.50      0.06      0.11        48\n",
      "\n",
      "    accuracy                           0.20        71\n",
      "   macro avg       0.23      0.29      0.18        71\n",
      "weighted avg       0.40      0.20      0.16        71\n",
      "\n"
     ]
    }
   ],
   "source": [
    "from sklearn.metrics import classification_report,confusion_matrix\n",
    "print(classification_report(testing_generator.classes,first_predictions.argmax(axis=1)))"
   ]
  },
  {
   "cell_type": "code",
   "execution_count": null,
   "metadata": {
    "colab": {},
    "colab_type": "code",
    "id": "dl8CwqctrLzQ",
    "outputId": "abdbffea-d61b-4ff4-856f-a5ed580e61c4"
   },
   "outputs": [
    {
     "name": "stdout",
     "output_type": "stream",
     "text": [
      "[[ 9  2  1  1]\n",
      " [ 0  1  5  0]\n",
      " [ 1  0  1  2]\n",
      " [25  5 15  3]]\n"
     ]
    }
   ],
   "source": [
    "print(confusion_matrix(testing_generator.classes,first_predictions.argmax(axis=1)))"
   ]
  },
  {
   "cell_type": "markdown",
   "metadata": {
    "colab_type": "text",
    "id": "C3MOxeTQrLzT"
   },
   "source": [
    "## VGG-16 with Data Augmentation"
   ]
  },
  {
   "cell_type": "markdown",
   "metadata": {},
   "source": [
    "#### Data pre-processing with data augmentation"
   ]
  },
  {
   "cell_type": "code",
   "execution_count": 9,
   "metadata": {
    "colab": {
     "base_uri": "https://localhost:8080/",
     "height": 68
    },
    "colab_type": "code",
    "executionInfo": {
     "elapsed": 1259,
     "status": "ok",
     "timestamp": 1594555115443,
     "user": {
      "displayName": "samiul islam",
      "photoUrl": "https://lh3.googleusercontent.com/-HLS0DGM8MNs/AAAAAAAAAAI/AAAAAAAACFU/yVcQtGcu6X8/s64/photo.jpg",
      "userId": "01102536367288735503"
     },
     "user_tz": -540
    },
    "id": "0H94S2xRrLzU",
    "outputId": "23bf3c0d-3f77-4451-b30f-32fe3a6e0d1a"
   },
   "outputs": [
    {
     "name": "stdout",
     "output_type": "stream",
     "text": [
      "Found 9957 images belonging to 4 classes.\n",
      "Found 2487 images belonging to 4 classes.\n",
      "Found 71 images belonging to 4 classes.\n"
     ]
    }
   ],
   "source": [
    "# Add our data-augmentation parameters to ImageDataGenerator\n",
    "#Training data\n",
    "train_batchsize = 20\n",
    "val_batchsize = 20\n",
    "\n",
    "train_datagen = ImageDataGenerator(rescale = 1./255.,\n",
    "                                   rotation_range=20,\n",
    "                                   width_shift_range=0.2,\n",
    "                                   height_shift_range=0.2,\n",
    "                                   horizontal_flip=True,\n",
    "                                   fill_mode='nearest', \n",
    "                                   validation_split=0.25)\n",
    "# Flow training images in batches of 20 using train_datagen generator\n",
    "train_generator = train_datagen.flow_from_directory(training_path,\n",
    "                                                    batch_size = train_batchsize,\n",
    "                                                    class_mode = 'categorical', \n",
    "                                                    target_size = (120, 160))  \n",
    "\n",
    "#validation data\n",
    "validation_datagen = ImageDataGenerator(rescale = 1./255)\n",
    "validation_generator = train_datagen.flow_from_directory(validation_path,\n",
    "                                                    batch_size = val_batchsize,\n",
    "                                                    class_mode = 'categorical',\n",
    "                                                    shuffle=False, \n",
    "                                                    target_size = (120, 160))  \n",
    "\n",
    "#Testing data\n",
    "testing_datagen = ImageDataGenerator(rescale = 1./255)\n",
    "testing_generator = train_datagen.flow_from_directory(testing_path,\n",
    "                                                    batch_size = 4,\n",
    "                                                    class_mode = 'categorical', \n",
    "                                                    target_size = (120, 160))  "
   ]
  },
  {
   "cell_type": "markdown",
   "metadata": {},
   "source": [
    "### Load VGG-16 model using keras"
   ]
  },
  {
   "cell_type": "code",
   "execution_count": 2,
   "metadata": {
    "colab": {},
    "colab_type": "code",
    "executionInfo": {
     "elapsed": 908,
     "status": "ok",
     "timestamp": 1594555118852,
     "user": {
      "displayName": "samiul islam",
      "photoUrl": "https://lh3.googleusercontent.com/-HLS0DGM8MNs/AAAAAAAAAAI/AAAAAAAACFU/yVcQtGcu6X8/s64/photo.jpg",
      "userId": "01102536367288735503"
     },
     "user_tz": -540
    },
    "id": "5o4PYsEurLzZ"
   },
   "outputs": [
    {
     "name": "stderr",
     "output_type": "stream",
     "text": [
      "Using TensorFlow backend.\n"
     ]
    }
   ],
   "source": [
    "import keras.applications as app"
   ]
  },
  {
   "cell_type": "code",
   "execution_count": 3,
   "metadata": {
    "colab": {
     "base_uri": "https://localhost:8080/",
     "height": 71
    },
    "colab_type": "code",
    "executionInfo": {
     "elapsed": 7830,
     "status": "ok",
     "timestamp": 1594555127574,
     "user": {
      "displayName": "samiul islam",
      "photoUrl": "https://lh3.googleusercontent.com/-HLS0DGM8MNs/AAAAAAAAAAI/AAAAAAAACFU/yVcQtGcu6X8/s64/photo.jpg",
      "userId": "01102536367288735503"
     },
     "user_tz": -540
    },
    "id": "S_0s_oJFrLzc",
    "outputId": "d60fc3e6-768e-410b-b997-320b7e746f37"
   },
   "outputs": [],
   "source": [
    "vgg = app.vgg16.VGG16(weights='imagenet',include_top=False, input_shape=(120,160,3))"
   ]
  },
  {
   "cell_type": "code",
   "execution_count": 4,
   "metadata": {},
   "outputs": [
    {
     "name": "stdout",
     "output_type": "stream",
     "text": [
      "Model: \"vgg16\"\n",
      "_________________________________________________________________\n",
      "Layer (type)                 Output Shape              Param #   \n",
      "=================================================================\n",
      "input_1 (InputLayer)         (None, 120, 160, 3)       0         \n",
      "_________________________________________________________________\n",
      "block1_conv1 (Conv2D)        (None, 120, 160, 64)      1792      \n",
      "_________________________________________________________________\n",
      "block1_conv2 (Conv2D)        (None, 120, 160, 64)      36928     \n",
      "_________________________________________________________________\n",
      "block1_pool (MaxPooling2D)   (None, 60, 80, 64)        0         \n",
      "_________________________________________________________________\n",
      "block2_conv1 (Conv2D)        (None, 60, 80, 128)       73856     \n",
      "_________________________________________________________________\n",
      "block2_conv2 (Conv2D)        (None, 60, 80, 128)       147584    \n",
      "_________________________________________________________________\n",
      "block2_pool (MaxPooling2D)   (None, 30, 40, 128)       0         \n",
      "_________________________________________________________________\n",
      "block3_conv1 (Conv2D)        (None, 30, 40, 256)       295168    \n",
      "_________________________________________________________________\n",
      "block3_conv2 (Conv2D)        (None, 30, 40, 256)       590080    \n",
      "_________________________________________________________________\n",
      "block3_conv3 (Conv2D)        (None, 30, 40, 256)       590080    \n",
      "_________________________________________________________________\n",
      "block3_pool (MaxPooling2D)   (None, 15, 20, 256)       0         \n",
      "_________________________________________________________________\n",
      "block4_conv1 (Conv2D)        (None, 15, 20, 512)       1180160   \n",
      "_________________________________________________________________\n",
      "block4_conv2 (Conv2D)        (None, 15, 20, 512)       2359808   \n",
      "_________________________________________________________________\n",
      "block4_conv3 (Conv2D)        (None, 15, 20, 512)       2359808   \n",
      "_________________________________________________________________\n",
      "block4_pool (MaxPooling2D)   (None, 7, 10, 512)        0         \n",
      "_________________________________________________________________\n",
      "block5_conv1 (Conv2D)        (None, 7, 10, 512)        2359808   \n",
      "_________________________________________________________________\n",
      "block5_conv2 (Conv2D)        (None, 7, 10, 512)        2359808   \n",
      "_________________________________________________________________\n",
      "block5_conv3 (Conv2D)        (None, 7, 10, 512)        2359808   \n",
      "_________________________________________________________________\n",
      "block5_pool (MaxPooling2D)   (None, 3, 5, 512)         0         \n",
      "=================================================================\n",
      "Total params: 14,714,688\n",
      "Trainable params: 14,714,688\n",
      "Non-trainable params: 0\n",
      "_________________________________________________________________\n"
     ]
    }
   ],
   "source": [
    "vgg.summary()"
   ]
  },
  {
   "cell_type": "markdown",
   "metadata": {},
   "source": [
    "### Make trainable False except last 4 layers"
   ]
  },
  {
   "cell_type": "code",
   "execution_count": 12,
   "metadata": {
    "colab": {},
    "colab_type": "code",
    "executionInfo": {
     "elapsed": 6255,
     "status": "ok",
     "timestamp": 1594555127576,
     "user": {
      "displayName": "samiul islam",
      "photoUrl": "https://lh3.googleusercontent.com/-HLS0DGM8MNs/AAAAAAAAAAI/AAAAAAAACFU/yVcQtGcu6X8/s64/photo.jpg",
      "userId": "01102536367288735503"
     },
     "user_tz": -540
    },
    "id": "k3-kZHPfrLzh"
   },
   "outputs": [],
   "source": [
    "third_model = Sequential()\n",
    "\n",
    "for layer in vgg.layers[:-4]:\n",
    "  layer.trainable=False"
   ]
  },
  {
   "cell_type": "code",
   "execution_count": 13,
   "metadata": {
    "colab": {
     "base_uri": "https://localhost:8080/",
     "height": 340
    },
    "colab_type": "code",
    "executionInfo": {
     "elapsed": 996,
     "status": "ok",
     "timestamp": 1594555142545,
     "user": {
      "displayName": "samiul islam",
      "photoUrl": "https://lh3.googleusercontent.com/-HLS0DGM8MNs/AAAAAAAAAAI/AAAAAAAACFU/yVcQtGcu6X8/s64/photo.jpg",
      "userId": "01102536367288735503"
     },
     "user_tz": -540
    },
    "id": "VwB4rZ4hrLzk",
    "outputId": "048dc43a-88ce-4d40-91d3-1a9545cb4f13"
   },
   "outputs": [
    {
     "name": "stdout",
     "output_type": "stream",
     "text": [
      "<keras.engine.input_layer.InputLayer object at 0x7fe38b96cdd8> False\n",
      "<keras.layers.convolutional.Conv2D object at 0x7fe38b130320> False\n",
      "<keras.layers.convolutional.Conv2D object at 0x7fe38b130588> False\n",
      "<keras.layers.pooling.MaxPooling2D object at 0x7fe38b130b38> False\n",
      "<keras.layers.convolutional.Conv2D object at 0x7fe38b130828> False\n",
      "<keras.layers.convolutional.Conv2D object at 0x7fe38975c630> False\n",
      "<keras.layers.pooling.MaxPooling2D object at 0x7fe389765470> False\n",
      "<keras.layers.convolutional.Conv2D object at 0x7fe3897652b0> False\n",
      "<keras.layers.convolutional.Conv2D object at 0x7fe389765f98> False\n",
      "<keras.layers.convolutional.Conv2D object at 0x7fe38976ab38> False\n",
      "<keras.layers.pooling.MaxPooling2D object at 0x7fe3897715c0> False\n",
      "<keras.layers.convolutional.Conv2D object at 0x7fe389771400> False\n",
      "<keras.layers.convolutional.Conv2D object at 0x7fe389771e48> False\n",
      "<keras.layers.convolutional.Conv2D object at 0x7fe389779c88> False\n",
      "<keras.layers.pooling.MaxPooling2D object at 0x7fe389781710> False\n",
      "<keras.layers.convolutional.Conv2D object at 0x7fe389781550> True\n",
      "<keras.layers.convolutional.Conv2D object at 0x7fe389709a58> True\n",
      "<keras.layers.convolutional.Conv2D object at 0x7fe389709dd8> True\n",
      "<keras.layers.pooling.MaxPooling2D object at 0x7fe38970e860> True\n"
     ]
    }
   ],
   "source": [
    "for layer in vgg.layers:\n",
    "  print(layer,layer.trainable)"
   ]
  },
  {
   "cell_type": "markdown",
   "metadata": {},
   "source": [
    "### Add layers with BatchNormalization and Dropout with 20%"
   ]
  },
  {
   "cell_type": "code",
   "execution_count": 14,
   "metadata": {
    "colab": {},
    "colab_type": "code",
    "executionInfo": {
     "elapsed": 895,
     "status": "ok",
     "timestamp": 1594555147002,
     "user": {
      "displayName": "samiul islam",
      "photoUrl": "https://lh3.googleusercontent.com/-HLS0DGM8MNs/AAAAAAAAAAI/AAAAAAAACFU/yVcQtGcu6X8/s64/photo.jpg",
      "userId": "01102536367288735503"
     },
     "user_tz": -540
    },
    "id": "QVMaB5farLzo"
   },
   "outputs": [],
   "source": [
    "# Add the vgg convolutional base model\n",
    "third_model.add(vgg)\n",
    " \n",
    "# Add new layers\n",
    "third_model.add(Flatten())\n",
    "third_model.add(BatchNormalization())\n",
    "third_model.add(Dense(32, activation='relu' ))\n",
    "third_model.add(Dropout(0.2))\n",
    "third_model.add(BatchNormalization())\n",
    "third_model.add(Dense(16, activation='relu' ))\n",
    "third_model.add(Dropout(0.2))\n",
    "third_model.add(BatchNormalization())\n",
    "third_model.add(Dense(8, activation='relu' ))\n",
    "third_model.add(Dropout(0.2))\n",
    "third_model.add(BatchNormalization())\n",
    "third_model.add(Dense(4, activation='softmax'))"
   ]
  },
  {
   "cell_type": "code",
   "execution_count": null,
   "metadata": {
    "colab": {
     "base_uri": "https://localhost:8080/",
     "height": 595
    },
    "colab_type": "code",
    "executionInfo": {
     "elapsed": 590,
     "status": "ok",
     "timestamp": 1594389278538,
     "user": {
      "displayName": "samiul islam",
      "photoUrl": "https://lh3.googleusercontent.com/-HLS0DGM8MNs/AAAAAAAAAAI/AAAAAAAACFU/yVcQtGcu6X8/s64/photo.jpg",
      "userId": "01102536367288735503"
     },
     "user_tz": -540
    },
    "id": "lGaQRYPbrLzs",
    "outputId": "4e3c0bc7-4f59-4ee3-f522-7a1e4a1f5b71"
   },
   "outputs": [
    {
     "name": "stdout",
     "output_type": "stream",
     "text": [
      "Model: \"sequential_1\"\n",
      "_________________________________________________________________\n",
      "Layer (type)                 Output Shape              Param #   \n",
      "=================================================================\n",
      "vgg16 (Model)                (None, 3, 5, 512)         14714688  \n",
      "_________________________________________________________________\n",
      "flatten_1 (Flatten)          (None, 7680)              0         \n",
      "_________________________________________________________________\n",
      "batch_normalization_1 (Batch (None, 7680)              30720     \n",
      "_________________________________________________________________\n",
      "dense_1 (Dense)              (None, 32)                245792    \n",
      "_________________________________________________________________\n",
      "dropout_1 (Dropout)          (None, 32)                0         \n",
      "_________________________________________________________________\n",
      "batch_normalization_2 (Batch (None, 32)                128       \n",
      "_________________________________________________________________\n",
      "dense_2 (Dense)              (None, 16)                528       \n",
      "_________________________________________________________________\n",
      "dropout_2 (Dropout)          (None, 16)                0         \n",
      "_________________________________________________________________\n",
      "batch_normalization_3 (Batch (None, 16)                64        \n",
      "_________________________________________________________________\n",
      "dense_3 (Dense)              (None, 8)                 136       \n",
      "_________________________________________________________________\n",
      "dropout_3 (Dropout)          (None, 8)                 0         \n",
      "_________________________________________________________________\n",
      "batch_normalization_4 (Batch (None, 8)                 32        \n",
      "_________________________________________________________________\n",
      "dense_4 (Dense)              (None, 4)                 36        \n",
      "=================================================================\n",
      "Total params: 14,992,124\n",
      "Trainable params: 7,341,388\n",
      "Non-trainable params: 7,650,736\n",
      "_________________________________________________________________\n"
     ]
    }
   ],
   "source": [
    "third_model.summary()"
   ]
  },
  {
   "cell_type": "code",
   "execution_count": 15,
   "metadata": {
    "colab": {},
    "colab_type": "code",
    "executionInfo": {
     "elapsed": 876,
     "status": "ok",
     "timestamp": 1594555159106,
     "user": {
      "displayName": "samiul islam",
      "photoUrl": "https://lh3.googleusercontent.com/-HLS0DGM8MNs/AAAAAAAAAAI/AAAAAAAACFU/yVcQtGcu6X8/s64/photo.jpg",
      "userId": "01102536367288735503"
     },
     "user_tz": -540
    },
    "id": "tTRjVGx9rLzv"
   },
   "outputs": [],
   "source": [
    "third_model.compile(loss='categorical_crossentropy',\n",
    "              optimizer=Adam(lr=0.0001),\n",
    "              metrics=['acc'])"
   ]
  },
  {
   "cell_type": "markdown",
   "metadata": {},
   "source": [
    "### Calculate steps_per_epoch and validation_steps"
   ]
  },
  {
   "cell_type": "code",
   "execution_count": 16,
   "metadata": {
    "colab": {
     "base_uri": "https://localhost:8080/",
     "height": 51
    },
    "colab_type": "code",
    "executionInfo": {
     "elapsed": 938,
     "status": "ok",
     "timestamp": 1594555160771,
     "user": {
      "displayName": "samiul islam",
      "photoUrl": "https://lh3.googleusercontent.com/-HLS0DGM8MNs/AAAAAAAAAAI/AAAAAAAACFU/yVcQtGcu6X8/s64/photo.jpg",
      "userId": "01102536367288735503"
     },
     "user_tz": -540
    },
    "id": "-ZFbvdXmrLzy",
    "outputId": "f9598090-a531-4db2-9e81-a94fe223780e"
   },
   "outputs": [
    {
     "name": "stdout",
     "output_type": "stream",
     "text": [
      "497\n",
      "124\n"
     ]
    }
   ],
   "source": [
    "steps_per_epoch = train_generator.samples//train_generator.batch_size\n",
    "validation_steps = validation_generator.samples//validation_generator.batch_size\n",
    "print(steps_per_epoch)\n",
    "print(validation_steps)"
   ]
  },
  {
   "cell_type": "code",
   "execution_count": 17,
   "metadata": {
    "colab": {
     "base_uri": "https://localhost:8080/",
     "height": 357
    },
    "colab_type": "code",
    "executionInfo": {
     "elapsed": 25120913,
     "status": "ok",
     "timestamp": 1594580938842,
     "user": {
      "displayName": "samiul islam",
      "photoUrl": "https://lh3.googleusercontent.com/-HLS0DGM8MNs/AAAAAAAAAAI/AAAAAAAACFU/yVcQtGcu6X8/s64/photo.jpg",
      "userId": "01102536367288735503"
     },
     "user_tz": -540
    },
    "id": "NIflybbtKUfn",
    "outputId": "f34f2e0b-c5ad-4fef-cf98-90958cb33ba4"
   },
   "outputs": [
    {
     "name": "stdout",
     "output_type": "stream",
     "text": [
      "Epoch 1/10\n",
      "497/497 [==============================] - 2566s 5s/step - loss: 1.4007 - acc: 0.3646 - val_loss: 0.7043 - val_acc: 0.4520\n",
      "Epoch 2/10\n",
      "497/497 [==============================] - 2579s 5s/step - loss: 1.1491 - acc: 0.5049 - val_loss: 2.0651 - val_acc: 0.4710\n",
      "Epoch 3/10\n",
      "497/497 [==============================] - 2570s 5s/step - loss: 0.9999 - acc: 0.6001 - val_loss: 1.1972 - val_acc: 0.5821\n",
      "Epoch 4/10\n",
      "497/497 [==============================] - 2585s 5s/step - loss: 0.8584 - acc: 0.6859 - val_loss: 0.3160 - val_acc: 0.6417\n",
      "Epoch 5/10\n",
      "497/497 [==============================] - 2579s 5s/step - loss: 0.7405 - acc: 0.7511 - val_loss: 1.0127 - val_acc: 0.7414\n",
      "Epoch 6/10\n",
      "497/497 [==============================] - 2577s 5s/step - loss: 0.6231 - acc: 0.8088 - val_loss: 0.5541 - val_acc: 0.6522\n",
      "Epoch 7/10\n",
      "497/497 [==============================] - 2588s 5s/step - loss: 0.5540 - acc: 0.8335 - val_loss: 0.1647 - val_acc: 0.6295\n",
      "Epoch 8/10\n",
      "497/497 [==============================] - 2570s 5s/step - loss: 0.4907 - acc: 0.8591 - val_loss: 0.3827 - val_acc: 0.6879\n",
      "Epoch 9/10\n",
      "497/497 [==============================] - 2588s 5s/step - loss: 0.4353 - acc: 0.8764 - val_loss: 0.1800 - val_acc: 0.7013\n",
      "Epoch 10/10\n",
      "497/497 [==============================] - 2568s 5s/step - loss: 0.3866 - acc: 0.8929 - val_loss: 0.2627 - val_acc: 0.7304\n"
     ]
    }
   ],
   "source": [
    "# Train the model\n",
    "history = third_model.fit_generator(train_generator,\n",
    "                              steps_per_epoch=steps_per_epoch,\n",
    "                              epochs=10,\n",
    "                              validation_data=validation_generator,\n",
    "                              validation_steps=validation_steps,\n",
    "                              verbose=1)"
   ]
  },
  {
   "cell_type": "code",
   "execution_count": 18,
   "metadata": {
    "colab": {},
    "colab_type": "code",
    "executionInfo": {
     "elapsed": 17262581,
     "status": "ok",
     "timestamp": 1594580938846,
     "user": {
      "displayName": "samiul islam",
      "photoUrl": "https://lh3.googleusercontent.com/-HLS0DGM8MNs/AAAAAAAAAAI/AAAAAAAACFU/yVcQtGcu6X8/s64/photo.jpg",
      "userId": "01102536367288735503"
     },
     "user_tz": -540
    },
    "id": "8gxMsWIprLz4"
   },
   "outputs": [],
   "source": [
    "loss = pd.DataFrame(third_model.history.history)"
   ]
  },
  {
   "cell_type": "code",
   "execution_count": 19,
   "metadata": {
    "colab": {
     "base_uri": "https://localhost:8080/",
     "height": 204
    },
    "colab_type": "code",
    "executionInfo": {
     "elapsed": 17260074,
     "status": "ok",
     "timestamp": 1594580938848,
     "user": {
      "displayName": "samiul islam",
      "photoUrl": "https://lh3.googleusercontent.com/-HLS0DGM8MNs/AAAAAAAAAAI/AAAAAAAACFU/yVcQtGcu6X8/s64/photo.jpg",
      "userId": "01102536367288735503"
     },
     "user_tz": -540
    },
    "id": "5z0hmAU5rLz6",
    "outputId": "6df39a45-6a6b-4507-8a27-7af1ceaf4ccf"
   },
   "outputs": [
    {
     "data": {
      "text/html": [
       "<div>\n",
       "<style scoped>\n",
       "    .dataframe tbody tr th:only-of-type {\n",
       "        vertical-align: middle;\n",
       "    }\n",
       "\n",
       "    .dataframe tbody tr th {\n",
       "        vertical-align: top;\n",
       "    }\n",
       "\n",
       "    .dataframe thead th {\n",
       "        text-align: right;\n",
       "    }\n",
       "</style>\n",
       "<table border=\"1\" class=\"dataframe\">\n",
       "  <thead>\n",
       "    <tr style=\"text-align: right;\">\n",
       "      <th></th>\n",
       "      <th>val_loss</th>\n",
       "      <th>val_acc</th>\n",
       "      <th>loss</th>\n",
       "      <th>acc</th>\n",
       "    </tr>\n",
       "  </thead>\n",
       "  <tbody>\n",
       "    <tr>\n",
       "      <th>0</th>\n",
       "      <td>0.704254</td>\n",
       "      <td>0.452016</td>\n",
       "      <td>1.400822</td>\n",
       "      <td>0.364597</td>\n",
       "    </tr>\n",
       "    <tr>\n",
       "      <th>1</th>\n",
       "      <td>2.065080</td>\n",
       "      <td>0.471017</td>\n",
       "      <td>1.149044</td>\n",
       "      <td>0.504881</td>\n",
       "    </tr>\n",
       "    <tr>\n",
       "      <th>2</th>\n",
       "      <td>1.197204</td>\n",
       "      <td>0.582084</td>\n",
       "      <td>0.999857</td>\n",
       "      <td>0.600080</td>\n",
       "    </tr>\n",
       "    <tr>\n",
       "      <th>3</th>\n",
       "      <td>0.315986</td>\n",
       "      <td>0.641670</td>\n",
       "      <td>0.858311</td>\n",
       "      <td>0.685921</td>\n",
       "    </tr>\n",
       "    <tr>\n",
       "      <th>4</th>\n",
       "      <td>1.012708</td>\n",
       "      <td>0.741386</td>\n",
       "      <td>0.740496</td>\n",
       "      <td>0.751132</td>\n",
       "    </tr>\n",
       "  </tbody>\n",
       "</table>\n",
       "</div>"
      ],
      "text/plain": [
       "   val_loss   val_acc      loss       acc\n",
       "0  0.704254  0.452016  1.400822  0.364597\n",
       "1  2.065080  0.471017  1.149044  0.504881\n",
       "2  1.197204  0.582084  0.999857  0.600080\n",
       "3  0.315986  0.641670  0.858311  0.685921\n",
       "4  1.012708  0.741386  0.740496  0.751132"
      ]
     },
     "execution_count": 19,
     "metadata": {
      "tags": []
     },
     "output_type": "execute_result"
    }
   ],
   "source": [
    "loss.head()"
   ]
  },
  {
   "cell_type": "code",
   "execution_count": 20,
   "metadata": {
    "colab": {
     "base_uri": "https://localhost:8080/",
     "height": 282
    },
    "colab_type": "code",
    "executionInfo": {
     "elapsed": 17249552,
     "status": "ok",
     "timestamp": 1594580939553,
     "user": {
      "displayName": "samiul islam",
      "photoUrl": "https://lh3.googleusercontent.com/-HLS0DGM8MNs/AAAAAAAAAAI/AAAAAAAACFU/yVcQtGcu6X8/s64/photo.jpg",
      "userId": "01102536367288735503"
     },
     "user_tz": -540
    },
    "id": "mkxkuJlmrLz-",
    "outputId": "db1ab4b6-daaf-48be-8ccb-8004e98f66ea"
   },
   "outputs": [
    {
     "data": {
      "text/plain": [
       "<matplotlib.axes._subplots.AxesSubplot at 0x7fe383d1f860>"
      ]
     },
     "execution_count": 20,
     "metadata": {
      "tags": []
     },
     "output_type": "execute_result"
    },
    {
     "data": {
      "image/png": "[encoded data removed]",
      "text/plain": [
       "<Figure size 432x288 with 1 Axes>"
      ]
     },
     "metadata": {
      "needs_background": "light",
      "tags": []
     },
     "output_type": "display_data"
    }
   ],
   "source": [
    "loss[['acc','val_acc']].plot()"
   ]
  },
  {
   "cell_type": "code",
   "execution_count": 21,
   "metadata": {
    "colab": {
     "base_uri": "https://localhost:8080/",
     "height": 282
    },
    "colab_type": "code",
    "executionInfo": {
     "elapsed": 17243184,
     "status": "ok",
     "timestamp": 1594580939555,
     "user": {
      "displayName": "samiul islam",
      "photoUrl": "https://lh3.googleusercontent.com/-HLS0DGM8MNs/AAAAAAAAAAI/AAAAAAAACFU/yVcQtGcu6X8/s64/photo.jpg",
      "userId": "01102536367288735503"
     },
     "user_tz": -540
    },
    "id": "p214ph8KrL0F",
    "outputId": "20a634ab-dc97-4705-e276-6f4f6e330f23"
   },
   "outputs": [
    {
     "data": {
      "text/plain": [
       "<matplotlib.axes._subplots.AxesSubplot at 0x7fe383c116a0>"
      ]
     },
     "execution_count": 21,
     "metadata": {
      "tags": []
     },
     "output_type": "execute_result"
    },
    {
     "data": {
      "image/png": "[encoded data removed]",
      "text/plain": [
       "<Figure size 432x288 with 1 Axes>"
      ]
     },
     "metadata": {
      "needs_background": "light",
      "tags": []
     },
     "output_type": "display_data"
    }
   ],
   "source": [
    "loss[['loss','val_loss']].plot()"
   ]
  },
  {
   "cell_type": "markdown",
   "metadata": {},
   "source": [
    "#### Save the Model"
   ]
  },
  {
   "cell_type": "code",
   "execution_count": 2,
   "metadata": {
    "colab": {},
    "colab_type": "code",
    "executionInfo": {
     "elapsed": 1104,
     "status": "ok",
     "timestamp": 1594590919672,
     "user": {
      "displayName": "samiul islam",
      "photoUrl": "https://lh3.googleusercontent.com/-HLS0DGM8MNs/AAAAAAAAAAI/AAAAAAAACFU/yVcQtGcu6X8/s64/photo.jpg",
      "userId": "01102536367288735503"
     },
     "user_tz": -540
    },
    "id": "usptQeqlZmMW"
   },
   "outputs": [],
   "source": [
    "#third_model.save('blood-cell-classifier.h5')"
   ]
  }
 ],
 "metadata": {
  "colab": {
   "name": "BloodCell Image Classification.ipynb",
   "provenance": []
  },
  "kernelspec": {
   "display_name": "Python 3",
   "language": "python",
   "name": "python3"
  },
  "language_info": {
   "codemirror_mode": {
    "name": "ipython",
    "version": 3
   },
   "file_extension": ".py",
   "mimetype": "text/x-python",
   "name": "python",
   "nbconvert_exporter": "python",
   "pygments_lexer": "ipython3",
   "version": "3.7.6"
  }
 },
 "nbformat": 4,
 "nbformat_minor": 1
}
